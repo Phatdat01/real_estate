{
 "cells": [
  {
   "cell_type": "code",
   "execution_count": 2,
   "metadata": {},
   "outputs": [],
   "source": [
    "import geopandas as gpd\n",
    "import matplotlib.pyplot as plt\n",
    "import numpy as np\n",
    "from image_downloading import  run, image_size\n",
    "from geo_func import split_polygon, read_geopandas_data\n",
    "import time\n",
    "from shapely.geometry import Point, Polygon\n",
    "from matplotlib.path import Path"
   ]
  },
  {
   "cell_type": "markdown",
   "metadata": {},
   "source": [
    "## Choosing ward of Dalat city"
   ]
  },
  {
   "cell_type": "code",
   "execution_count": 114,
   "metadata": {},
   "outputs": [],
   "source": [
    "# ward=\"12\"\n",
    "# geo = read_geopandas_data(province=\"Lâm Đồng\", district=\"Đà Lạt\",ward=\"12\")\n",
    "ward=\"Nguyễn Cư Trinh\"\n",
    "geo = read_geopandas_data(province=\"Hồ Chí Minh city\", district=\"Quận 1\",ward=ward)\n",
    "G = np.random.choice(geo.geometry.values)\n",
    " \n",
    "squares = split_polygon(G, shape='square', thresh=0, side_length=0.005)\n",
    "geo_series = gpd.GeoSeries(squares)"
   ]
  },
  {
   "cell_type": "markdown",
   "metadata": {},
   "source": [
    "## Render mask process"
   ]
  },
  {
   "cell_type": "code",
   "execution_count": 118,
   "metadata": {},
   "outputs": [],
   "source": [
    "tf_lon, _, _, tf_lat = geo_series[geo_series.index[-1]-8+1].bounds #this is top-left square\n",
    "_, br_lat, br_lon, _ = geo_series[0].bounds #this is bottom-right square"
   ]
  },
  {
   "cell_type": "code",
   "execution_count": 119,
   "metadata": {},
   "outputs": [
    {
     "data": {
      "text/plain": [
       "(108.4659881591798, 11.992591857910156, 11.954291343689022, 108.50731658935553)"
      ]
     },
     "execution_count": 119,
     "metadata": {},
     "output_type": "execute_result"
    }
   ],
   "source": [
    "tf_lon,tf_lat, br_lat, br_lon"
   ]
  },
  {
   "cell_type": "code",
   "execution_count": 120,
   "metadata": {},
   "outputs": [
    {
     "data": {
      "text/plain": [
       "(15408, 14598)"
      ]
     },
     "execution_count": 120,
     "metadata": {},
     "output_type": "execute_result"
    }
   ],
   "source": [
    "W, H = image_size(tf_lat, tf_lon, br_lat, br_lon, zoom=19)\n",
    "W, H"
   ]
  },
  {
   "cell_type": "code",
   "execution_count": 101,
   "metadata": {},
   "outputs": [
    {
     "name": "stdout",
     "output_type": "stream",
     "text": [
      "4366 4530\n",
      "(4366, 4530) (4366, 4530)\n",
      "0.515998125076294\n",
      "6.308020114898682\n",
      "11.783046245574951\n",
      "17.283995151519775\n",
      "22.949034452438354\n",
      "28.56099510192871\n",
      "34.0990207195282\n",
      "39.64718747138977\n",
      "45.19418001174927\n"
     ]
    }
   ],
   "source": [
    "#this index is specified for ward 12\n",
    "tf_lon, _, _, tf_lat = geo_series[geo_series.index[-1]-2+1].bounds #this is top-left square\n",
    "_, br_lat, br_lon, _ = geo_series[0].bounds #this is bottom-right square\n",
    "\n",
    "start = time.time()\n",
    "\n",
    "W, H = image_size(tf_lat, tf_lon, br_lat, br_lon, zoom=19)\n",
    "# W = geo_series[0].shape[0]*(W//geo_series[0].shape[0])\n",
    "# H = geo_series[0].shape[1]*(H//geo_series[0].shape[1])\n",
    "print(W,H)\n",
    "dx = (br_lon-tf_lon)/W\n",
    "dy = (tf_lat-br_lat)/H\n",
    "\n",
    "valuesx = np.arange(0, W)\n",
    "oney = np.ones((1,H), dtype=int)\n",
    "image_dx = valuesx.reshape((W,1))*oney\n",
    "\n",
    "valuesy = np.arange(H,0, -1)\n",
    "onex = np.ones((W,1), dtype=int)\n",
    "image_dy = valuesy.reshape((1,H))*onex\n",
    "\n",
    "lon = np.add(image_dx*dx, tf_lon)\n",
    "lat = np.add(image_dy*dy, br_lat)\n",
    "\n",
    "area = {}\n",
    "boundary = Polygon(geo_series[geo_series.index[0]])\n",
    "\n",
    "path = Path(list(boundary.exterior.coords))  # Create Path from Polygon's vertices\n",
    "\n",
    "\n",
    "def is_point_inside_polygon(point):\n",
    "    return path.contains_point(point)\n",
    "\n",
    "mask = np.full(lat.shape, False, dtype=bool)\n",
    "# Check if point is inside the polygon\n",
    "#mask = np.array([[is_point_inside_polygon((lon[i][j], lat[i][j])) for j in range(W)] for i in range(H)], dtype=bool)\n",
    "print(lon.shape, lat.shape)\n",
    "for i in range(W):\n",
    "    if(i%500 == 0):\n",
    "        print(time.time()-start)\n",
    "    for j in range(H):\n",
    "        mask[i,j] = is_point_inside_polygon((lon[i][j], lat[i][j]))\n",
    "\n",
    "np.save(\"mask_\"+ward, mask)"
   ]
  },
  {
   "cell_type": "code",
   "execution_count": 38,
   "metadata": {},
   "outputs": [
    {
     "data": {
      "image/png": "[encoded data removed]",
      "text/plain": [
       "<Figure size 640x480 with 1 Axes>"
      ]
     },
     "metadata": {},
     "output_type": "display_data"
    }
   ],
   "source": [
    "mask_12 = np.load(\"mask_Nguyễn Cư Trinh.npy\")\n",
    "plt.pcolormesh(mask_12, cmap=\"binary\")  \n",
    "plt.xlabel(\"X-axis\")\n",
    "plt.ylabel(\"Y-axis\")\n",
    "plt.title(\"2D Array Visualization\")\n",
    "plt.show()"
   ]
  },
  {
   "cell_type": "markdown",
   "metadata": {},
   "source": [
    "## Inference model result"
   ]
  },
  {
   "cell_type": "code",
   "execution_count": 4,
   "metadata": {},
   "outputs": [
    {
     "name": "stdout",
     "output_type": "stream",
     "text": [
      "Looking in indexes: https://pypi.org/simple, https://download.pytorch.org/whl/cpu\n",
      "Collecting torch==1.13.0+cpu\n",
      "  Downloading https://download.pytorch.org/whl/cpu/torch-1.13.0%2Bcpu-cp39-cp39-win_amd64.whl (166.6 MB)\n",
      "Collecting torchvision==0.14.0+cpu\n",
      "  Downloading https://download.pytorch.org/whl/cpu/torchvision-0.14.0%2Bcpu-cp39-cp39-win_amd64.whl (1.1 MB)\n",
      "Collecting torchaudio==0.13.0\n",
      "  Downloading https://download.pytorch.org/whl/cpu/torchaudio-0.13.0%2Bcpu-cp39-cp39-win_amd64.whl (2.0 MB)\n",
      "Requirement already satisfied: typing-extensions in .\\.venv\\lib\\site-packages (from torch==1.13.0+cpu) (4.12.2)\n",
      "Requirement already satisfied: numpy in .\\.venv\\lib\\site-packages (from torchvision==0.14.0+cpu) (2.0.0)\n",
      "Requirement already satisfied: pillow!=8.3.*,>=5.3.0 in .\\.venv\\lib\\site-packages (from torchvision==0.14.0+cpu) (10.3.0)\n",
      "Requirement already satisfied: requests in .\\.venv\\lib\\site-packages (from torchvision==0.14.0+cpu) (2.32.3)\n",
      "Requirement already satisfied: certifi>=2017.4.17 in .\\.venv\\lib\\site-packages (from requests->torchvision==0.14.0+cpu) (2024.6.2)\n",
      "Requirement already satisfied: idna<4,>=2.5 in .\\.venv\\lib\\site-packages (from requests->torchvision==0.14.0+cpu) (3.7)\n",
      "Requirement already satisfied: charset-normalizer<4,>=2 in .\\.venv\\lib\\site-packages (from requests->torchvision==0.14.0+cpu) (3.3.2)\n",
      "Requirement already satisfied: urllib3<3,>=1.21.1 in .\\.venv\\lib\\site-packages (from requests->torchvision==0.14.0+cpu) (2.2.2)\n",
      "Installing collected packages: torch, torchvision, torchaudio\n",
      "  Attempting uninstall: torch\n",
      "    Found existing installation: torch 2.3.1\n",
      "    Uninstalling torch-2.3.1:\n",
      "      Successfully uninstalled torch-2.3.1\n",
      "  Attempting uninstall: torchvision\n",
      "    Found existing installation: torchvision 0.18.1\n",
      "    Uninstalling torchvision-0.18.1:\n",
      "      Successfully uninstalled torchvision-0.18.1\n",
      "Successfully installed torch-1.13.0+cpu torchaudio-0.13.0+cpu torchvision-0.14.0+cpu\n"
     ]
    },
    {
     "name": "stderr",
     "output_type": "stream",
     "text": [
      "WARNING: You are using pip version 20.2.3; however, version 24.0 is available.\n",
      "You should consider upgrading via the 'd:\\code\\real_estate\\.venv\\scripts\\python.exe -m pip install --upgrade pip' command.\n"
     ]
    }
   ],
   "source": [
    "!pip install torch==1.13.0+cpu torchvision==0.14.0+cpu torchaudio==0.13.0 --extra-index-url https://download.pytorch.org/whl/cpu"
   ]
  },
  {
   "cell_type": "code",
   "execution_count": 9,
   "metadata": {},
   "outputs": [
    {
     "name": "stdout",
     "output_type": "stream",
     "text": [
      "Looking in links: https://download.openmmlab.com/mmcv/dist/cpu/torch1.13/index.html\n",
      "Requirement already satisfied: mmcv==2.0.0rc3 in .\\.venv\\lib\\site-packages (2.0.0rc3)\n",
      "Requirement already satisfied: yapf in .\\.venv\\lib\\site-packages (from mmcv==2.0.0rc3) (0.40.2)\n",
      "Requirement already satisfied: regex; sys_platform == \"win32\" in .\\.venv\\lib\\site-packages (from mmcv==2.0.0rc3) (2024.5.15)\n",
      "Requirement already satisfied: mmengine in .\\.venv\\lib\\site-packages (from mmcv==2.0.0rc3) (0.10.4)\n",
      "Requirement already satisfied: Pillow in .\\.venv\\lib\\site-packages (from mmcv==2.0.0rc3) (10.3.0)\n",
      "Requirement already satisfied: numpy in .\\.venv\\lib\\site-packages (from mmcv==2.0.0rc3) (2.0.0)\n",
      "Requirement already satisfied: packaging in .\\.venv\\lib\\site-packages (from mmcv==2.0.0rc3) (24.1)\n",
      "Requirement already satisfied: pyyaml in .\\.venv\\lib\\site-packages (from mmcv==2.0.0rc3) (6.0.1)\n",
      "Requirement already satisfied: addict in .\\.venv\\lib\\site-packages (from mmcv==2.0.0rc3) (2.4.0)\n",
      "Requirement already satisfied: tomli>=2.0.1 in .\\.venv\\lib\\site-packages (from yapf->mmcv==2.0.0rc3) (2.0.1)\n",
      "Requirement already satisfied: platformdirs>=3.5.1 in .\\.venv\\lib\\site-packages (from yapf->mmcv==2.0.0rc3) (4.2.2)\n",
      "Requirement already satisfied: importlib-metadata>=6.6.0 in .\\.venv\\lib\\site-packages (from yapf->mmcv==2.0.0rc3) (7.1.0)\n",
      "Requirement already satisfied: rich in .\\.venv\\lib\\site-packages (from mmengine->mmcv==2.0.0rc3) (13.7.1)\n",
      "Requirement already satisfied: termcolor in .\\.venv\\lib\\site-packages (from mmengine->mmcv==2.0.0rc3) (2.4.0)\n",
      "Requirement already satisfied: matplotlib in .\\.venv\\lib\\site-packages (from mmengine->mmcv==2.0.0rc3) (3.9.0)\n",
      "Requirement already satisfied: opencv-python>=3 in .\\.venv\\lib\\site-packages (from mmengine->mmcv==2.0.0rc3) (4.10.0.84)\n",
      "Requirement already satisfied: zipp>=0.5 in .\\.venv\\lib\\site-packages (from importlib-metadata>=6.6.0->yapf->mmcv==2.0.0rc3) (3.19.2)\n",
      "Requirement already satisfied: markdown-it-py>=2.2.0 in .\\.venv\\lib\\site-packages (from rich->mmengine->mmcv==2.0.0rc3) (3.0.0)\n",
      "Requirement already satisfied: pygments<3.0.0,>=2.13.0 in .\\.venv\\lib\\site-packages (from rich->mmengine->mmcv==2.0.0rc3) (2.18.0)\n",
      "Requirement already satisfied: importlib-resources>=3.2.0; python_version < \"3.10\" in .\\.venv\\lib\\site-packages (from matplotlib->mmengine->mmcv==2.0.0rc3) (6.4.0)\n",
      "Requirement already satisfied: fonttools>=4.22.0 in .\\.venv\\lib\\site-packages (from matplotlib->mmengine->mmcv==2.0.0rc3) (4.53.0)\n",
      "Requirement already satisfied: pyparsing>=2.3.1 in .\\.venv\\lib\\site-packages (from matplotlib->mmengine->mmcv==2.0.0rc3) (3.1.2)\n",
      "Requirement already satisfied: kiwisolver>=1.3.1 in .\\.venv\\lib\\site-packages (from matplotlib->mmengine->mmcv==2.0.0rc3) (1.4.5)\n",
      "Requirement already satisfied: contourpy>=1.0.1 in .\\.venv\\lib\\site-packages (from matplotlib->mmengine->mmcv==2.0.0rc3) (1.2.1)\n",
      "Requirement already satisfied: python-dateutil>=2.7 in .\\.venv\\lib\\site-packages (from matplotlib->mmengine->mmcv==2.0.0rc3) (2.9.0.post0)\n",
      "Requirement already satisfied: cycler>=0.10 in .\\.venv\\lib\\site-packages (from matplotlib->mmengine->mmcv==2.0.0rc3) (0.12.1)\n",
      "Requirement already satisfied: mdurl~=0.1 in .\\.venv\\lib\\site-packages (from markdown-it-py>=2.2.0->rich->mmengine->mmcv==2.0.0rc3) (0.1.2)\n",
      "Requirement already satisfied: six>=1.5 in .\\.venv\\lib\\site-packages (from python-dateutil>=2.7->matplotlib->mmengine->mmcv==2.0.0rc3) (1.16.0)\n"
     ]
    },
    {
     "name": "stderr",
     "output_type": "stream",
     "text": [
      "WARNING: You are using pip version 20.2.3; however, version 24.0 is available.\n",
      "You should consider upgrading via the 'd:\\code\\real_estate\\.venv\\scripts\\python.exe -m pip install --upgrade pip' command.\n"
     ]
    }
   ],
   "source": [
    "!pip install mmcv==2.0.0rc3 -f https://download.openmmlab.com/mmcv/dist/cpu/torch1.13/index.html"
   ]
  },
  {
   "cell_type": "code",
   "execution_count": 12,
   "metadata": {},
   "outputs": [],
   "source": [
    "import torch\n",
    "import matplotlib.pyplot as plt\n",
    "from PIL import Image\n",
    "from mmengine.model.utils import revert_sync_batchnorm\n",
    "from mmseg.apis import init_model, inference_model, show_result_pyplot"
   ]
  },
  {
   "cell_type": "code",
   "execution_count": 17,
   "metadata": {},
   "outputs": [
    {
     "name": "stderr",
     "output_type": "stream",
     "text": [
      "d:\\code\\real_estate\\.venv\\lib\\site-packages\\mmseg\\models\\builder.py:36: UserWarning: ``build_loss`` would be deprecated soon, please use ``mmseg.registry.MODELS.build()`` \n",
      "  warnings.warn('``build_loss`` would be deprecated soon, please use '\n"
     ]
    },
    {
     "name": "stdout",
     "output_type": "stream",
     "text": [
      "Loads checkpoint by local backend from path: segformer.pth\n"
     ]
    }
   ],
   "source": [
    "config_file = 'segformer_mit-b5_8xb2-160k_loveda-640x640.py'\n",
    "checkpoint_file = 'segformer.pth'\n",
    "model = init_model(config_file, checkpoint_file, device='cpu')\n",
    "if not torch.cuda.is_available():\n",
    "    model = revert_sync_batchnorm(model)"
   ]
  },
  {
   "cell_type": "code",
   "execution_count": 19,
   "metadata": {},
   "outputs": [],
   "source": [
    "file = \"data/images/Hồ Chí Minh city/Quận 1/Nguyễn Cư Trinh/0.png\"\n",
    "result = inference_model(model, file)"
   ]
  },
  {
   "cell_type": "code",
   "execution_count": 20,
   "metadata": {},
   "outputs": [
    {
     "data": {
      "text/plain": [
       "<SegDataSample(\n",
       "\n",
       "    META INFORMATION\n",
       "    img_path: 'data/images/Hồ Chí Minh city/Quận 1/Nguyễn Cư Trinh/0.png'\n",
       "    img_shape: (664, 640)\n",
       "    scale_factor: (0.29317453046266606, 0.29315673289183225)\n",
       "    ori_shape: (2265, 2183)\n",
       "\n",
       "    DATA FIELDS\n",
       "    seg_logits: <PixelData(\n",
       "        \n",
       "            META INFORMATION\n",
       "        \n",
       "            DATA FIELDS\n",
       "            data: tensor([[[-0.4663, -0.4663, -0.4663,  ..., -0.3144, -0.3144, -0.3144],\n",
       "                         [-0.4663, -0.4663, -0.4663,  ..., -0.3144, -0.3144, -0.3144],\n",
       "                         [-0.4663, -0.4663, -0.4663,  ..., -0.3144, -0.3144, -0.3144],\n",
       "                         ...,\n",
       "                         [ 0.4584,  0.4584,  0.4584,  ...,  0.6515,  0.6515,  0.6515],\n",
       "                         [ 0.4584,  0.4584,  0.4584,  ...,  0.6515,  0.6515,  0.6515],\n",
       "                         [ 0.4584,  0.4584,  0.4584,  ...,  0.6515,  0.6515,  0.6515]],\n",
       "                \n",
       "                        [[ 0.3526,  0.3526,  0.3526,  ...,  1.5392,  1.5392,  1.5392],\n",
       "                         [ 0.3526,  0.3526,  0.3526,  ...,  1.5392,  1.5392,  1.5392],\n",
       "                         [ 0.3526,  0.3526,  0.3526,  ...,  1.5392,  1.5392,  1.5392],\n",
       "                         ...,\n",
       "                         [ 1.5863,  1.5863,  1.5863,  ...,  0.4023,  0.4023,  0.4023],\n",
       "                         [ 1.5863,  1.5863,  1.5863,  ...,  0.4023,  0.4023,  0.4023],\n",
       "                         [ 1.5863,  1.5863,  1.5863,  ...,  0.4023,  0.4023,  0.4023]],\n",
       "                \n",
       "                        [[-4.4492, -4.4492, -4.4492,  ..., -6.7635, -6.7635, -6.7635],\n",
       "                         [-4.4492, -4.4492, -4.4492,  ..., -6.7635, -6.7635, -6.7635],\n",
       "                         [-4.4492, -4.4492, -4.4492,  ..., -6.7635, -6.7635, -6.7635],\n",
       "                         ...,\n",
       "                         [-5.7042, -5.7042, -5.7042,  ..., -5.3029, -5.3029, -5.3029],\n",
       "                         [-5.7042, -5.7042, -5.7042,  ..., -5.3029, -5.3029, -5.3029],\n",
       "                         [-5.7042, -5.7042, -5.7042,  ..., -5.3029, -5.3029, -5.3029]],\n",
       "                \n",
       "                        ...,\n",
       "                \n",
       "                        [[-3.4764, -3.4764, -3.4764,  ..., -9.2603, -9.2603, -9.2603],\n",
       "                         [-3.4764, -3.4764, -3.4764,  ..., -9.2603, -9.2603, -9.2603],\n",
       "                         [-3.4764, -3.4764, -3.4764,  ..., -9.2603, -9.2603, -9.2603],\n",
       "                         ...,\n",
       "                         [-6.7914, -6.7914, -6.7914,  ..., -9.3733, -9.3733, -9.3733],\n",
       "                         [-6.7914, -6.7914, -6.7914,  ..., -9.3733, -9.3733, -9.3733],\n",
       "                         [-6.7914, -6.7914, -6.7914,  ..., -9.3733, -9.3733, -9.3733]],\n",
       "                \n",
       "                        [[-5.9249, -5.9249, -5.9249,  ..., -6.9438, -6.9438, -6.9438],\n",
       "                         [-5.9249, -5.9249, -5.9249,  ..., -6.9438, -6.9438, -6.9438],\n",
       "                         [-5.9249, -5.9249, -5.9249,  ..., -6.9438, -6.9438, -6.9438],\n",
       "                         ...,\n",
       "                         [-9.6502, -9.6502, -9.6502,  ..., -6.4731, -6.4731, -6.4731],\n",
       "                         [-9.6502, -9.6502, -9.6502,  ..., -6.4731, -6.4731, -6.4731],\n",
       "                         [-9.6502, -9.6502, -9.6502,  ..., -6.4731, -6.4731, -6.4731]],\n",
       "                \n",
       "                        [[-3.5062, -3.5062, -3.5062,  ..., -8.4416, -8.4416, -8.4416],\n",
       "                         [-3.5062, -3.5062, -3.5062,  ..., -8.4416, -8.4416, -8.4416],\n",
       "                         [-3.5062, -3.5062, -3.5062,  ..., -8.4416, -8.4416, -8.4416],\n",
       "                         ...,\n",
       "                         [-8.2370, -8.2370, -8.2370,  ..., -7.4160, -7.4160, -7.4160],\n",
       "                         [-8.2370, -8.2370, -8.2370,  ..., -7.4160, -7.4160, -7.4160],\n",
       "                         [-8.2370, -8.2370, -8.2370,  ..., -7.4160, -7.4159, -7.4160]]])\n",
       "        ) at 0x1a3c6f58700>\n",
       "    pred_sem_seg: <PixelData(\n",
       "        \n",
       "            META INFORMATION\n",
       "        \n",
       "            DATA FIELDS\n",
       "            data: tensor([[[1, 1, 1,  ..., 1, 1, 1],\n",
       "                         [1, 1, 1,  ..., 1, 1, 1],\n",
       "                         [1, 1, 1,  ..., 1, 1, 1],\n",
       "                         ...,\n",
       "                         [1, 1, 1,  ..., 0, 0, 0],\n",
       "                         [1, 1, 1,  ..., 0, 0, 0],\n",
       "                         [1, 1, 1,  ..., 0, 0, 0]]])\n",
       "        ) at 0x1a3c6f58310>\n",
       ") at 0x1a3c6fea7c0>"
      ]
     },
     "execution_count": 20,
     "metadata": {},
     "output_type": "execute_result"
    }
   ],
   "source": [
    "result"
   ]
  },
  {
   "cell_type": "code",
   "execution_count": null,
   "metadata": {},
   "outputs": [],
   "source": [
    "import torch\n",
    "import matplotlib.pyplot as plt\n",
    "from mmengine.model.utils import revert_sync_batchnorm\n",
    "from mmseg.apis import init_model, inference_model, show_result_pyplot\n",
    "config_file = './configs/segformer/segformer_mit-b5_8xb2-160k_loveda-640x640.py'\n",
    "checkpoint_file = '/mmsegmentation/data/segformer.pth'\n",
    "# build the model from a config file and a checkpoint file\n",
    "model = init_model(config_file, checkpoint_file, device='cuda')\n",
    "\n",
    "import os\n",
    "if not torch.cuda.is_available():\n",
    "    model = revert_sync_batchnorm(model)\n",
    "folder_path = '/mmsegmentation/data/test/images_raw'\n",
    "for filename in os.listdir(folder_path):\n",
    "        image_path = os.path.join(folder_path, filename)\n",
    "\n",
    "        result = inference_model(model, image_path)\n",
    "        vis_iamge = show_result_pyplot(model, image_path, result, save_dir ='data/results/',\n",
    "                                    opacity=1.0, show=False,  draw_gt=True, with_labels=False)"
   ]
  },
  {
   "cell_type": "markdown",
   "metadata": {},
   "source": [
    "## Rendering Land statistic result"
   ]
  },
  {
   "cell_type": "markdown",
   "metadata": {},
   "source": [
    "#### render report function"
   ]
  },
  {
   "cell_type": "code",
   "execution_count": null,
   "metadata": {},
   "outputs": [],
   "source": [
    "def calculate_area(image, mask):\n",
    "    \"\"\"\n",
    "    Calculates the area for each unique value in the image within the mask.\n",
    "\n",
    "    Args:\n",
    "        image (numpy.ndarray): The image where the values are counted.\n",
    "        mask (numpy.ndarray): The mask defining the area of interest.\n",
    "\n",
    "    Returns:\n",
    "        dict: A dictionary with unique values as keys and the corresponding area as values.\n",
    "    \"\"\"\n",
    "    # Count the unique values in the image within the mask\n",
    "    unique_values, counts = np.unique(image[mask], return_counts=True)\n",
    "\n",
    "    # Calculate the area for each unique value\n",
    "    area = {}\n",
    "    for i in range(len(unique_values)):\n",
    "        # Calculate the area for each unique value\n",
    "        # The area is calculated as counts * pixel size (0.2986m) squared / 1000000\n",
    "        area[unique_values[i]] = (counts[i] * 0.2986 * 0.2986) / 1000000\n",
    "\n",
    "    return area\n",
    "def merging_row(index, folder_path):\n",
    "    \"\"\"\n",
    "    Merges images from different rows into a single row image.\n",
    "\n",
    "    Args:\n",
    "        index (list): List of indexes of the images to be merged.\n",
    "        folder_path (str): Path to the folder containing the images.\n",
    "\n",
    "    Returns:\n",
    "        numpy.ndarray: Merged image with dimensions (height, width*len(index)).\n",
    "    \"\"\"\n",
    "    # Define the color ranges for each label\n",
    "    color_ranges = {       \n",
    "        0: [255, 255, 255],  # White\n",
    "        1: [0,0,255],  # Blue\n",
    "        2: [0,255,255],  # Cyan\n",
    "        3: [255,0,0],  # Red\n",
    "        4: [183, 129, 159],  # Pink\n",
    "        5: [0,255,0],  # Green\n",
    "        6: [128, 195, 255],  # Light blue\n",
    "    }\n",
    "    \n",
    "    # Read the first image, encode it to 1D array, and initialize the merged image\n",
    "    image_row = cv2.imread(os.path.join(folder_path, str(index[0])+\".png\"))\n",
    "    image_row = encode_image_to_1d(image_row, color_ranges)\n",
    "    merged_image = image_row\n",
    "\n",
    "    # Merge the remaining images\n",
    "    for i in index[1:]:\n",
    "        image_path = os.path.join(folder_path, str(i)+\".png\")\n",
    "        image = cv2.imread(image_path)\n",
    "        image = encode_image_to_1d(image, color_ranges)\n",
    "        merged_image = np.concatenate((merged_image, image), axis=1)\n",
    "\n",
    "    return merged_image\n",
    "def encode_image_to_1d(image, color_ranges):\n",
    "  \"\"\"\n",
    "  Encodes an image with specified color ranges to a 1D array with label values (0-6).\n",
    "\n",
    "  Args:\n",
    "      image: A 3D NumPy array representing the image (height, width, channels).\n",
    "      color_ranges: A dictionary mapping label names to tuples of color ranges (BGR).\n",
    "\n",
    "  Returns:\n",
    "      A 1D NumPy array containing label values (0-6) for each pixel in the image.\n",
    "  \"\"\"\n",
    "\n",
    "  # Create an empty encoded image to store label values (0 to 6)\n",
    "  img_classes = np.zeros_like(image)[:, :, 0]  # Initialize with first channel\n",
    "  unique_colors = set()\n",
    "  for label, rgb in color_ranges.items():\n",
    "    img_classes[(image==rgb).all(axis=2)] = label\n",
    "    unique_values, counts = np.unique(img_classes, return_counts=True)\n",
    "    \n",
    "  unique_values, counts = np.unique(img_classes, return_counts=True)\n",
    "  print(unique_values, counts)\n",
    "\n",
    "  return img_classes"
   ]
  },
  {
   "cell_type": "code",
   "execution_count": null,
   "metadata": {},
   "outputs": [],
   "source": [
    "folder_path = \"data/results/\" #Model results directory\n",
    "\n",
    "#This index is specified for ward 12\n",
    "index1=[i for i in range(56,64)]\n",
    "index2=[i for i in range(48,56)]\n",
    "index3=[i for i in range(40,48)]\n",
    "index4=[i for i in range(32,40)]\n",
    "index5=[i for i in range(24,32)]\n",
    "index6=[i for i in range(16,24)]\n",
    "index7=[i for i in range(8,16)]\n",
    "index8 = np.arange(7, -1, -1)\n",
    "index = [index1, index2, index3, index4, index5, index6, index7, index8]\n",
    "big_images=merging_row(index[0], folder_path=folder_path)\n",
    "for i in index[1:]:\n",
    "    image=merging_row(i, folder_path=folder_path)\n",
    "    big_images = np.concatenate((big_images, image))\n",
    "    \n",
    "print(big_images.shape)\n",
    "area = (calculate_area(big_images, mask)) \n",
    "\n",
    "unique_values, counts = np.unique(mask, return_counts=True)\n",
    "print(unique_values, counts)\n",
    "\n",
    "total_sum = sum(area.values())\n",
    "print(total_sum)"
   ]
  }
 ],
 "metadata": {
  "kernelspec": {
   "display_name": ".venv",
   "language": "python",
   "name": "python3"
  },
  "language_info": {
   "codemirror_mode": {
    "name": "ipython",
    "version": 3
   },
   "file_extension": ".py",
   "mimetype": "text/x-python",
   "name": "python",
   "nbconvert_exporter": "python",
   "pygments_lexer": "ipython3",
   "version": "3.9.0"
  }
 },
 "nbformat": 4,
 "nbformat_minor": 2
}
