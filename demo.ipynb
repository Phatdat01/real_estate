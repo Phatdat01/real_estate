{
 "cells": [
  {
   "cell_type": "code",
   "execution_count": 1,
   "metadata": {},
   "outputs": [],
   "source": [
    "from geo_func import *\n",
    "import geopandas as gpd\n"
   ]
  },
  {
   "cell_type": "code",
   "execution_count": 2,
   "metadata": {},
   "outputs": [],
   "source": [
    "data = gpd.read_file('geometry_data/VNM_adm3.shp')"
   ]
  },
  {
   "cell_type": "code",
   "execution_count": 33,
   "metadata": {},
   "outputs": [
    {
     "data": {
      "text/html": [
       "<div>\n",
       "<style scoped>\n",
       "    .dataframe tbody tr th:only-of-type {\n",
       "        vertical-align: middle;\n",
       "    }\n",
       "\n",
       "    .dataframe tbody tr th {\n",
       "        vertical-align: top;\n",
       "    }\n",
       "\n",
       "    .dataframe thead th {\n",
       "        text-align: right;\n",
       "    }\n",
       "</style>\n",
       "<table border=\"1\" class=\"dataframe\">\n",
       "  <thead>\n",
       "    <tr style=\"text-align: right;\">\n",
       "      <th></th>\n",
       "      <th>ID_0</th>\n",
       "      <th>ISO</th>\n",
       "      <th>NAME_0</th>\n",
       "      <th>ID_1</th>\n",
       "      <th>NAME_1</th>\n",
       "      <th>ID_2</th>\n",
       "      <th>NAME_2</th>\n",
       "      <th>ID_3</th>\n",
       "      <th>NAME_3</th>\n",
       "      <th>CCN_3</th>\n",
       "      <th>CCA_3</th>\n",
       "      <th>TYPE_3</th>\n",
       "      <th>ENGTYPE_3</th>\n",
       "      <th>NL_NAME_3</th>\n",
       "      <th>VARNAME_3</th>\n",
       "      <th>geometry</th>\n",
       "    </tr>\n",
       "  </thead>\n",
       "  <tbody>\n",
       "    <tr>\n",
       "      <th>0</th>\n",
       "      <td>250</td>\n",
       "      <td>VNM</td>\n",
       "      <td>Vietnam</td>\n",
       "      <td>1</td>\n",
       "      <td>Đà Nẵng</td>\n",
       "      <td>1</td>\n",
       "      <td>Cẩm Lệ</td>\n",
       "      <td>1</td>\n",
       "      <td>Hòa Phát</td>\n",
       "      <td>0</td>\n",
       "      <td>None</td>\n",
       "      <td>Commune</td>\n",
       "      <td>Commune</td>\n",
       "      <td>None</td>\n",
       "      <td>None</td>\n",
       "      <td>POLYGON ((108.17028 16.01591, 108.16991 16.016...</td>\n",
       "    </tr>\n",
       "    <tr>\n",
       "      <th>1</th>\n",
       "      <td>250</td>\n",
       "      <td>VNM</td>\n",
       "      <td>Vietnam</td>\n",
       "      <td>1</td>\n",
       "      <td>Đà Nẵng</td>\n",
       "      <td>1</td>\n",
       "      <td>Cẩm Lệ</td>\n",
       "      <td>2</td>\n",
       "      <td>Hòa Xuân</td>\n",
       "      <td>0</td>\n",
       "      <td>None</td>\n",
       "      <td>Commune</td>\n",
       "      <td>Commune</td>\n",
       "      <td>None</td>\n",
       "      <td>None</td>\n",
       "      <td>POLYGON ((108.20899 15.99559, 108.21204 15.999...</td>\n",
       "    </tr>\n",
       "  </tbody>\n",
       "</table>\n",
       "</div>"
      ],
      "text/plain": [
       "   ID_0  ISO   NAME_0  ID_1   NAME_1  ID_2  NAME_2  ID_3    NAME_3  CCN_3  \\\n",
       "0   250  VNM  Vietnam     1  Đà Nẵng     1  Cẩm Lệ     1  Hòa Phát      0   \n",
       "1   250  VNM  Vietnam     1  Đà Nẵng     1  Cẩm Lệ     2  Hòa Xuân      0   \n",
       "\n",
       "  CCA_3   TYPE_3 ENGTYPE_3 NL_NAME_3 VARNAME_3  \\\n",
       "0  None  Commune   Commune      None      None   \n",
       "1  None  Commune   Commune      None      None   \n",
       "\n",
       "                                            geometry  \n",
       "0  POLYGON ((108.17028 16.01591, 108.16991 16.016...  \n",
       "1  POLYGON ((108.20899 15.99559, 108.21204 15.999...  "
      ]
     },
     "execution_count": 33,
     "metadata": {},
     "output_type": "execute_result"
    }
   ],
   "source": [
    "data = gpd.read_file('geometry_data/VNM_adm3.shp')\n",
    "data = gpd.GeoDataFrame(data, crs='WGS84')\n",
    "data.head(2)"
   ]
  },
  {
   "cell_type": "code",
   "execution_count": 23,
   "metadata": {},
   "outputs": [
    {
     "data": {
      "text/html": [
       "<div>\n",
       "<style scoped>\n",
       "    .dataframe tbody tr th:only-of-type {\n",
       "        vertical-align: middle;\n",
       "    }\n",
       "\n",
       "    .dataframe tbody tr th {\n",
       "        vertical-align: top;\n",
       "    }\n",
       "\n",
       "    .dataframe thead th {\n",
       "        text-align: right;\n",
       "    }\n",
       "</style>\n",
       "<table border=\"1\" class=\"dataframe\">\n",
       "  <thead>\n",
       "    <tr style=\"text-align: right;\">\n",
       "      <th></th>\n",
       "      <th>ID_0</th>\n",
       "      <th>ISO</th>\n",
       "      <th>NAME_0</th>\n",
       "      <th>ID_1</th>\n",
       "      <th>NAME_1</th>\n",
       "      <th>ID_2</th>\n",
       "      <th>NAME_2</th>\n",
       "      <th>ID_3</th>\n",
       "      <th>NAME_3</th>\n",
       "      <th>CCN_3</th>\n",
       "      <th>CCA_3</th>\n",
       "      <th>TYPE_3</th>\n",
       "      <th>ENGTYPE_3</th>\n",
       "      <th>NL_NAME_3</th>\n",
       "      <th>VARNAME_3</th>\n",
       "      <th>geometry</th>\n",
       "    </tr>\n",
       "  </thead>\n",
       "  <tbody>\n",
       "    <tr>\n",
       "      <th>5994</th>\n",
       "      <td>250</td>\n",
       "      <td>VNM</td>\n",
       "      <td>Vietnam</td>\n",
       "      <td>39</td>\n",
       "      <td>Long An</td>\n",
       "      <td>408</td>\n",
       "      <td>Cần Đước</td>\n",
       "      <td>5995</td>\n",
       "      <td>Long Hựu Tây</td>\n",
       "      <td>0</td>\n",
       "      <td>None</td>\n",
       "      <td>Commune</td>\n",
       "      <td>Commune</td>\n",
       "      <td>None</td>\n",
       "      <td>None</td>\n",
       "      <td>POLYGON ((106.67139 10.43880, 106.67103 10.438...</td>\n",
       "    </tr>\n",
       "  </tbody>\n",
       "</table>\n",
       "</div>"
      ],
      "text/plain": [
       "      ID_0  ISO   NAME_0  ID_1   NAME_1  ID_2    NAME_2  ID_3        NAME_3  \\\n",
       "5994   250  VNM  Vietnam    39  Long An   408  Cần Đước  5995  Long Hựu Tây   \n",
       "\n",
       "      CCN_3 CCA_3   TYPE_3 ENGTYPE_3 NL_NAME_3 VARNAME_3  \\\n",
       "5994      0  None  Commune   Commune      None      None   \n",
       "\n",
       "                                               geometry  \n",
       "5994  POLYGON ((106.67139 10.43880, 106.67103 10.438...  "
      ]
     },
     "execution_count": 23,
     "metadata": {},
     "output_type": "execute_result"
    }
   ],
   "source": [
    "DL = data[data['NAME_2']=='Cần Đước']\n",
    "DL=DL[DL['NAME_3']=='Long Hựu Tây']\n",
    "DL.head()"
   ]
  },
  {
   "cell_type": "code",
   "execution_count": 30,
   "metadata": {},
   "outputs": [
    {
     "data": {
      "image/svg+xml": [
       "<svg xmlns=\"http://www.w3.org/2000/svg\" xmlns:xlink=\"http://www.w3.org/1999/xlink\" width=\"100.0\" height=\"100.0\" viewBox=\"106.65340576171874 10.436623191833496 0.04457550048834946 0.05495910644531321\" preserveAspectRatio=\"xMinYMin meet\"><g transform=\"matrix(1,0,0,-1,0,20.928205490112305)\"><path fill-rule=\"evenodd\" fill=\"#66cc99\" stroke=\"#555555\" stroke-width=\"0.0010991821289062641\" opacity=\"0.6\" d=\"M 106.67139434814447,10.438796997070426 L 106.67102813720697,10.438816070556697 L 106.66928100585949,10.439071655273438 L 106.66829681396496,10.439253807067928 L 106.66720581054682,10.439543724060002 L 106.66683959960938,10.439706802368221 L 106.66567993164057,10.440231323242244 L 106.6641311645509,10.441080093383846 L 106.66300964355463,10.44205379486084 L 106.66169738769531,10.443964958190975 L 106.6601791381836,10.447351455688533 L 106.6595840454101,10.449709892273063 L 106.65951538085943,10.451005935669002 L 106.65951538085943,10.453813552856502 L 106.6594009399414,10.458223342895565 L 106.65955352783214,10.45991516113287 L 106.65988159179693,10.462972640991325 L 106.65993499755871,10.46352767944336 L 106.65994262695324,10.463663101196232 L 106.65996551513666,10.46536827087408 L 106.65983581542969,10.467512130737418 L 106.65956878662104,10.46969127655035 L 106.65951538085943,10.470158576965446 L 106.65930175781256,10.471871376037598 L 106.6592864990235,10.472088813781852 L 106.6591186523438,10.472783088684139 L 106.65845489501953,10.475358009338436 L 106.65733337402344,10.477915763855037 L 106.65544128417969,10.480658531189022 L 106.65686035156261,10.48256778717041 L 106.658447265625,10.484460830688477 L 106.66048431396496,10.487024307251033 L 106.66233062744146,10.489546775817871 L 106.66376495361322,10.489418983459473 L 106.6656875610351,10.48933219909668 L 106.66706848144531,10.489289283752498 L 106.66890716552746,10.488799095153809 L 106.67026519775385,10.488526344299373 L 106.67012023925781,10.487703323364258 L 106.67012023925781,10.487030029296989 L 106.67022705078136,10.486813545226994 L 106.67039489746105,10.486705780029354 L 106.67052459716803,10.486624717712516 L 106.67118072509777,10.48643589019781 L 106.67142486572266,10.486353874206657 L 106.67164611816406,10.486300468444881 L 106.67180633544922,10.486219406128043 L 106.67196655273432,10.486029624939022 L 106.6719970703125,10.485841751098633 L 106.6720199584961,10.485519409179801 L 106.67192840576183,10.485096931457463 L 106.6716537475586,10.48442459106451 L 106.67137908935558,10.483968734741154 L 106.67121124267572,10.483646392822322 L 106.67113494873053,10.483297348022518 L 106.6711044311524,10.482947349548397 L 106.6711044311524,10.482086181640739 L 106.6710433959961,10.4812526702882 L 106.67106628417969,10.480905532836971 L 106.67113494873053,10.480630874633732 L 106.67127227783203,10.480423927307072 L 106.67147827148443,10.480170249938908 L 106.67173767089855,10.47989368438732 L 106.6720809936524,10.47966384887701 L 106.67252349853527,10.479433059692496 L 106.67292022705072,10.479293823242188 L 106.67345428466808,10.479178428650016 L 106.67405700683605,10.479130744934196 L 106.67469024658203,10.479106903076286 L 106.6751556396485,10.479151725769043 L 106.6754989624024,10.479266166687125 L 106.67582702636719,10.479495048523063 L 106.6760864257813,10.479723930358887 L 106.67692565917963,10.48068714141857 L 106.6773681640625,10.481168746948242 L 106.67768859863276,10.481467247009391 L 106.67799377441412,10.481696128845158 L 106.67829895019531,10.481879234314079 L 106.67882537841808,10.482018470764217 L 106.67910766601568,10.481764793395996 L 106.67922210693354,10.481244087219352 L 106.679214477539,10.48072338104248 L 106.67906188964844,10.478899955749625 L 106.67894744873053,10.477151870727653 L 106.67894744873053,10.476445198059139 L 106.67955017089855,10.47636890411377 L 106.68079376220703,10.47640419006359 L 106.68252563476562,10.476586341858024 L 106.68365478515625,10.476881027221793 L 106.6845932006836,10.47699069976801 L 106.68519592285156,10.476988792419434 L 106.68542480468756,10.476728439330998 L 106.68587493896496,10.475982666015739 L 106.68628692626947,10.47486591339117 L 106.68714904785162,10.473040580749512 L 106.68797302246105,10.471403121948242 L 106.68909454345714,10.469390869140625 L 106.69014739990234,10.467602729797363 L 106.6918716430664,10.464734077453613 L 106.69345092773443,10.462312698364201 L 106.69457244873053,10.460560798645076 L 106.69532775878912,10.459295272827205 L 106.69594573974615,10.458146095275879 L 106.69446563720714,10.455574989318961 L 106.69358825683594,10.45399379730236 L 106.691650390625,10.45014572143566 L 106.68976593017578,10.447179794311523 L 106.6891860961914,10.446172714233512 L 106.68811798095709,10.44485092163086 L 106.68746948242188,10.4440536499024 L 106.68535614013672,10.441969871521053 L 106.68203735351574,10.440106391906738 L 106.67945098876953,10.439247131347656 L 106.67739105224615,10.438801765441895 L 106.67681121826172,10.438658714294434 L 106.67506408691406,10.438662528991813 L 106.67327880859386,10.438702583313102 L 106.67139434814447,10.438796997070426 z\" /></g></svg>"
      ],
      "text/plain": [
       "<POLYGON ((106.671 10.439, 106.671 10.439, 106.669 10.439, 106.668 10.439, 1...>"
      ]
     },
     "execution_count": 30,
     "metadata": {},
     "output_type": "execute_result"
    }
   ],
   "source": [
    "DL['geometry'].iloc[0]"
   ]
  },
  {
   "cell_type": "code",
   "execution_count": 29,
   "metadata": {},
   "outputs": [
    {
     "data": {
      "text/plain": [
       "5485    POLYGON ((108.49611 11.96060, 108.49569 11.960...\n",
       "Name: geometry, dtype: geometry"
      ]
     },
     "execution_count": 29,
     "metadata": {},
     "output_type": "execute_result"
    }
   ],
   "source": [
    "data = read_geopandas_data()\n",
    "data"
   ]
  },
  {
   "cell_type": "code",
   "execution_count": 30,
   "metadata": {},
   "outputs": [
    {
     "data": {
      "text/plain": [
       "5485    POLYGON ((108.46599 11.95429, 108.50732 11.954...\n",
       "dtype: geometry"
      ]
     },
     "execution_count": 30,
     "metadata": {},
     "output_type": "execute_result"
    }
   ],
   "source": [
    "side_length=0.025\n",
    "data.envelope"
   ]
  },
  {
   "cell_type": "code",
   "execution_count": 31,
   "metadata": {},
   "outputs": [
    {
     "data": {
      "text/html": [
       "<div>\n",
       "<style scoped>\n",
       "    .dataframe tbody tr th:only-of-type {\n",
       "        vertical-align: middle;\n",
       "    }\n",
       "\n",
       "    .dataframe tbody tr th {\n",
       "        vertical-align: top;\n",
       "    }\n",
       "\n",
       "    .dataframe thead th {\n",
       "        text-align: right;\n",
       "    }\n",
       "</style>\n",
       "<table border=\"1\" class=\"dataframe\">\n",
       "  <thead>\n",
       "    <tr style=\"text-align: right;\">\n",
       "      <th></th>\n",
       "      <th>minx</th>\n",
       "      <th>miny</th>\n",
       "      <th>maxx</th>\n",
       "      <th>maxy</th>\n",
       "    </tr>\n",
       "  </thead>\n",
       "  <tbody>\n",
       "    <tr>\n",
       "      <th>5485</th>\n",
       "      <td>108.465988</td>\n",
       "      <td>11.954291</td>\n",
       "      <td>108.507317</td>\n",
       "      <td>11.992592</td>\n",
       "    </tr>\n",
       "  </tbody>\n",
       "</table>\n",
       "</div>"
      ],
      "text/plain": [
       "            minx       miny        maxx       maxy\n",
       "5485  108.465988  11.954291  108.507317  11.992592"
      ]
     },
     "execution_count": 31,
     "metadata": {},
     "output_type": "execute_result"
    }
   ],
   "source": [
    "data.bounds"
   ]
  },
  {
   "cell_type": "code",
   "execution_count": 32,
   "metadata": {},
   "outputs": [
    {
     "data": {
      "text/plain": [
       "(108.4659881591798, 11.954291343689022, 108.50731658935553, 11.992591857910156)"
      ]
     },
     "execution_count": 32,
     "metadata": {},
     "output_type": "execute_result"
    }
   ],
   "source": [
    "x1, y1, x2, y2 = data.bounds.iloc[0]\n",
    "width = x2 - x1\n",
    "height = y2 - y1\n",
    "x1, y1, x2, y2"
   ]
  },
  {
   "cell_type": "code",
   "execution_count": 33,
   "metadata": {},
   "outputs": [
    {
     "data": {
      "text/plain": [
       "(2, 2)"
      ]
     },
     "execution_count": 33,
     "metadata": {},
     "output_type": "execute_result"
    }
   ],
   "source": [
    "xcells = int(np.round(width / side_length))\n",
    "ycells = int(np.round(height / side_length))\n",
    "xcells, ycells"
   ]
  },
  {
   "cell_type": "code",
   "execution_count": 34,
   "metadata": {},
   "outputs": [
    {
     "data": {
      "text/plain": [
       "(array([108.46598816, 108.48665237, 108.50731659]),\n",
       " array([11.95429134, 11.9734416 , 11.99259186]))"
      ]
     },
     "execution_count": 34,
     "metadata": {},
     "output_type": "execute_result"
    }
   ],
   "source": [
    "yindices = np.linspace(y1, y2, ycells + 1)\n",
    "xindices = np.linspace(x1, x2, xcells + 1)\n",
    "xindices,yindices"
   ]
  },
  {
   "cell_type": "code",
   "execution_count": 35,
   "metadata": {},
   "outputs": [
    {
     "data": {
      "text/plain": [
       "([<LINESTRING (108.466 11.954, 108.466 11.993)>,\n",
       "  <LINESTRING (108.487 11.954, 108.487 11.993)>,\n",
       "  <LINESTRING (108.507 11.954, 108.507 11.993)>],\n",
       " [<LINESTRING (108.466 11.954, 108.507 11.954)>,\n",
       "  <LINESTRING (108.466 11.973, 108.507 11.973)>,\n",
       "  <LINESTRING (108.466 11.993, 108.507 11.993)>])"
      ]
     },
     "execution_count": 35,
     "metadata": {},
     "output_type": "execute_result"
    }
   ],
   "source": [
    "horizontal_splitters = [\n",
    "        LineString([(x, yindices[0]), (x, yindices[-1])]) for x in xindices\n",
    "    ]\n",
    "vertical_splitters = [\n",
    "    LineString([(xindices[0], y), (xindices[-1], y)]) for y in yindices\n",
    "]\n",
    "horizontal_splitters, vertical_splitters"
   ]
  },
  {
   "cell_type": "code",
   "execution_count": 36,
   "metadata": {},
   "outputs": [],
   "source": [
    "import matplotlib.pyplot as plt\n",
    "import matplotlib.patches as patches\n",
    "\n",
    "G = np.random.choice(data.geometry.values)"
   ]
  },
  {
   "cell_type": "code",
   "execution_count": 37,
   "metadata": {},
   "outputs": [],
   "source": [
    "Rectangle    = G.envelope\n",
    "squares      = get_squares_from_rect(Rectangle, side_length=0.025)"
   ]
  },
  {
   "cell_type": "code",
   "execution_count": 38,
   "metadata": {},
   "outputs": [
    {
     "data": {
      "text/plain": [
       "[<POLYGON ((108.507 11.954, 108.487 11.954, 108.487 11.973, 108.507 11.973, 1...>,\n",
       " <POLYGON ((108.487 11.954, 108.466 11.954, 108.466 11.973, 108.487 11.973, 1...>,\n",
       " <POLYGON ((108.466 11.973, 108.466 11.993, 108.487 11.993, 108.487 11.973, 1...>,\n",
       " <POLYGON ((108.487 11.993, 108.507 11.993, 108.507 11.973, 108.487 11.973, 1...>]"
      ]
     },
     "execution_count": 38,
     "metadata": {},
     "output_type": "execute_result"
    }
   ],
   "source": [
    "squares"
   ]
  },
  {
   "cell_type": "code",
   "execution_count": 39,
   "metadata": {},
   "outputs": [
    {
     "data": {
      "text/plain": [
       "0    POLYGON ((108.50732 11.95429, 108.48665 11.954...\n",
       "1    POLYGON ((108.48665 11.95429, 108.46599 11.954...\n",
       "2    POLYGON ((108.46599 11.97344, 108.46599 11.992...\n",
       "3    POLYGON ((108.48665 11.99259, 108.50732 11.992...\n",
       "dtype: geometry"
      ]
     },
     "execution_count": 39,
     "metadata": {},
     "output_type": "execute_result"
    }
   ],
   "source": [
    "SquareGeoDF  = gpd.GeoSeries(squares)\n",
    "SquareGeoDF"
   ]
  },
  {
   "cell_type": "code",
   "execution_count": 40,
   "metadata": {},
   "outputs": [
    {
     "data": {
      "text/plain": [
       "0    POLYGON ((108.507 11.954, 108.487 11.954, 108....\n",
       "1    POLYGON ((108.487 11.954, 108.466 11.954, 108....\n",
       "2    POLYGON ((108.466 11.973, 108.466 11.993, 108....\n",
       "3    POLYGON ((108.487 11.993, 108.507 11.993, 108....\n",
       "dtype: geometry"
      ]
     },
     "execution_count": 40,
     "metadata": {},
     "output_type": "execute_result"
    }
   ],
   "source": [
    "SquareGeoDF = SquareGeoDF.set_crs('EPSG:32649')\n",
    "SquareGeoDF"
   ]
  },
  {
   "cell_type": "code",
   "execution_count": 41,
   "metadata": {},
   "outputs": [
    {
     "data": {
      "text/plain": [
       "0    POLYGON ((108.507 11.954, 108.487 11.954, 108....\n",
       "1    POLYGON ((108.487 11.954, 108.466 11.954, 108....\n",
       "2    POLYGON ((108.466 11.973, 108.466 11.993, 108....\n",
       "3    POLYGON ((108.487 11.993, 108.507 11.993, 108....\n",
       "dtype: geometry"
      ]
     },
     "execution_count": 41,
     "metadata": {},
     "output_type": "execute_result"
    }
   ],
   "source": [
    "Geoms        = SquareGeoDF.geometry\n",
    "Geoms"
   ]
  },
  {
   "cell_type": "code",
   "execution_count": 42,
   "metadata": {},
   "outputs": [
    {
     "data": {
      "text/plain": [
       "[]"
      ]
     },
     "execution_count": 42,
     "metadata": {},
     "output_type": "execute_result"
    }
   ],
   "source": [
    "geoms = [g for g in Geoms if ((g.intersection(G)).area / g.area) >= 0.9]\n",
    "geoms"
   ]
  },
  {
   "cell_type": "code",
   "execution_count": 43,
   "metadata": {},
   "outputs": [],
   "source": [
    "G = np.random.choice(data.geometry.values)\n",
    "squares   = split_polygon(G,shape='square',thresh=0,side_length=0.005)"
   ]
  },
  {
   "cell_type": "code",
   "execution_count": 44,
   "metadata": {},
   "outputs": [
    {
     "data": {
      "text/plain": [
       "[<POLYGON ((108.507 11.954, 108.502 11.954, 108.502 11.959, 108.507 11.959, 1...>,\n",
       " <POLYGON ((108.502 11.954, 108.497 11.954, 108.497 11.959, 108.502 11.959, 1...>,\n",
       " <POLYGON ((108.497 11.954, 108.492 11.954, 108.492 11.959, 108.497 11.959, 1...>,\n",
       " <POLYGON ((108.492 11.954, 108.487 11.954, 108.487 11.959, 108.492 11.959, 1...>,\n",
       " <POLYGON ((108.487 11.954, 108.481 11.954, 108.481 11.959, 108.487 11.959, 1...>,\n",
       " <POLYGON ((108.481 11.954, 108.476 11.954, 108.476 11.959, 108.481 11.959, 1...>,\n",
       " <POLYGON ((108.476 11.954, 108.471 11.954, 108.471 11.959, 108.476 11.959, 1...>,\n",
       " <POLYGON ((108.471 11.954, 108.466 11.954, 108.466 11.959, 108.471 11.959, 1...>,\n",
       " <POLYGON ((108.466 11.959, 108.466 11.964, 108.471 11.964, 108.471 11.959, 1...>,\n",
       " <POLYGON ((108.471 11.964, 108.476 11.964, 108.476 11.959, 108.471 11.959, 1...>,\n",
       " <POLYGON ((108.476 11.964, 108.481 11.964, 108.481 11.959, 108.476 11.959, 1...>,\n",
       " <POLYGON ((108.481 11.964, 108.487 11.964, 108.487 11.959, 108.481 11.959, 1...>,\n",
       " <POLYGON ((108.487 11.964, 108.492 11.964, 108.492 11.959, 108.487 11.959, 1...>,\n",
       " <POLYGON ((108.492 11.964, 108.497 11.964, 108.497 11.959, 108.492 11.959, 1...>,\n",
       " <POLYGON ((108.497 11.964, 108.502 11.964, 108.502 11.959, 108.497 11.959, 1...>,\n",
       " <POLYGON ((108.502 11.964, 108.507 11.964, 108.507 11.959, 108.502 11.959, 1...>,\n",
       " <POLYGON ((108.466 11.964, 108.466 11.969, 108.471 11.969, 108.471 11.964, 1...>,\n",
       " <POLYGON ((108.471 11.969, 108.476 11.969, 108.476 11.964, 108.471 11.964, 1...>,\n",
       " <POLYGON ((108.476 11.969, 108.481 11.969, 108.481 11.964, 108.476 11.964, 1...>,\n",
       " <POLYGON ((108.481 11.969, 108.487 11.969, 108.487 11.964, 108.481 11.964, 1...>,\n",
       " <POLYGON ((108.487 11.969, 108.492 11.969, 108.492 11.964, 108.487 11.964, 1...>,\n",
       " <POLYGON ((108.492 11.969, 108.497 11.969, 108.497 11.964, 108.492 11.964, 1...>,\n",
       " <POLYGON ((108.497 11.969, 108.502 11.969, 108.502 11.964, 108.497 11.964, 1...>,\n",
       " <POLYGON ((108.502 11.969, 108.507 11.969, 108.507 11.964, 108.502 11.964, 1...>,\n",
       " <POLYGON ((108.466 11.969, 108.466 11.973, 108.471 11.973, 108.471 11.969, 1...>,\n",
       " <POLYGON ((108.471 11.973, 108.476 11.973, 108.476 11.969, 108.471 11.969, 1...>,\n",
       " <POLYGON ((108.476 11.973, 108.481 11.973, 108.481 11.969, 108.476 11.969, 1...>,\n",
       " <POLYGON ((108.481 11.973, 108.487 11.973, 108.487 11.969, 108.481 11.969, 1...>,\n",
       " <POLYGON ((108.487 11.973, 108.492 11.973, 108.492 11.969, 108.487 11.969, 1...>,\n",
       " <POLYGON ((108.492 11.973, 108.497 11.973, 108.497 11.969, 108.492 11.969, 1...>,\n",
       " <POLYGON ((108.497 11.973, 108.502 11.973, 108.502 11.969, 108.497 11.969, 1...>,\n",
       " <POLYGON ((108.502 11.973, 108.507 11.973, 108.507 11.969, 108.502 11.969, 1...>,\n",
       " <POLYGON ((108.466 11.973, 108.466 11.978, 108.471 11.978, 108.471 11.973, 1...>,\n",
       " <POLYGON ((108.471 11.978, 108.476 11.978, 108.476 11.973, 108.471 11.973, 1...>,\n",
       " <POLYGON ((108.476 11.978, 108.481 11.978, 108.481 11.973, 108.476 11.973, 1...>,\n",
       " <POLYGON ((108.481 11.978, 108.487 11.978, 108.487 11.973, 108.481 11.973, 1...>,\n",
       " <POLYGON ((108.487 11.978, 108.492 11.978, 108.492 11.973, 108.487 11.973, 1...>,\n",
       " <POLYGON ((108.492 11.978, 108.497 11.978, 108.497 11.973, 108.492 11.973, 1...>,\n",
       " <POLYGON ((108.497 11.978, 108.502 11.978, 108.502 11.973, 108.497 11.973, 1...>,\n",
       " <POLYGON ((108.502 11.978, 108.507 11.978, 108.507 11.973, 108.502 11.973, 1...>,\n",
       " <POLYGON ((108.466 11.978, 108.466 11.983, 108.471 11.983, 108.471 11.978, 1...>,\n",
       " <POLYGON ((108.471 11.983, 108.476 11.983, 108.476 11.978, 108.471 11.978, 1...>,\n",
       " <POLYGON ((108.476 11.983, 108.481 11.983, 108.481 11.978, 108.476 11.978, 1...>,\n",
       " <POLYGON ((108.481 11.983, 108.487 11.983, 108.487 11.978, 108.481 11.978, 1...>,\n",
       " <POLYGON ((108.487 11.983, 108.492 11.983, 108.492 11.978, 108.487 11.978, 1...>,\n",
       " <POLYGON ((108.492 11.983, 108.497 11.983, 108.497 11.978, 108.492 11.978, 1...>,\n",
       " <POLYGON ((108.497 11.983, 108.502 11.983, 108.502 11.978, 108.497 11.978, 1...>,\n",
       " <POLYGON ((108.502 11.983, 108.507 11.983, 108.507 11.978, 108.502 11.978, 1...>,\n",
       " <POLYGON ((108.466 11.983, 108.466 11.988, 108.471 11.988, 108.471 11.983, 1...>,\n",
       " <POLYGON ((108.471 11.988, 108.476 11.988, 108.476 11.983, 108.471 11.983, 1...>,\n",
       " <POLYGON ((108.476 11.988, 108.481 11.988, 108.481 11.983, 108.476 11.983, 1...>,\n",
       " <POLYGON ((108.481 11.988, 108.487 11.988, 108.487 11.983, 108.481 11.983, 1...>,\n",
       " <POLYGON ((108.487 11.988, 108.492 11.988, 108.492 11.983, 108.487 11.983, 1...>,\n",
       " <POLYGON ((108.492 11.988, 108.497 11.988, 108.497 11.983, 108.492 11.983, 1...>,\n",
       " <POLYGON ((108.497 11.988, 108.502 11.988, 108.502 11.983, 108.497 11.983, 1...>,\n",
       " <POLYGON ((108.502 11.988, 108.507 11.988, 108.507 11.983, 108.502 11.983, 1...>,\n",
       " <POLYGON ((108.466 11.988, 108.466 11.993, 108.471 11.993, 108.471 11.988, 1...>,\n",
       " <POLYGON ((108.471 11.993, 108.476 11.993, 108.476 11.988, 108.471 11.988, 1...>,\n",
       " <POLYGON ((108.476 11.993, 108.481 11.993, 108.481 11.988, 108.476 11.988, 1...>,\n",
       " <POLYGON ((108.481 11.993, 108.487 11.993, 108.487 11.988, 108.481 11.988, 1...>,\n",
       " <POLYGON ((108.487 11.993, 108.492 11.993, 108.492 11.988, 108.487 11.988, 1...>,\n",
       " <POLYGON ((108.492 11.993, 108.497 11.993, 108.497 11.988, 108.492 11.988, 1...>,\n",
       " <POLYGON ((108.497 11.993, 108.502 11.993, 108.502 11.988, 108.497 11.988, 1...>,\n",
       " <POLYGON ((108.502 11.993, 108.507 11.993, 108.507 11.988, 108.502 11.988, 1...>]"
      ]
     },
     "execution_count": 44,
     "metadata": {},
     "output_type": "execute_result"
    }
   ],
   "source": [
    "squares"
   ]
  },
  {
   "cell_type": "code",
   "execution_count": 45,
   "metadata": {},
   "outputs": [
    {
     "data": {
      "text/plain": [
       "0    POLYGON ((108.46599 11.98780, 108.46599 11.992...\n",
       "1    POLYGON ((108.50732 11.95429, 108.50215 11.954...\n",
       "dtype: geometry"
      ]
     },
     "execution_count": 45,
     "metadata": {},
     "output_type": "execute_result"
    }
   ],
   "source": [
    "geo_series = gpd.GeoSeries([squares[56], squares[0]])\n",
    "geo_series"
   ]
  },
  {
   "cell_type": "code",
   "execution_count": 46,
   "metadata": {},
   "outputs": [
    {
     "data": {
      "image/png": "[encoded data removed]",
      "text/plain": [
       "<Figure size 640x480 with 1 Axes>"
      ]
     },
     "metadata": {},
     "output_type": "display_data"
    }
   ],
   "source": [
    "fig, ax = plt.subplots()"
   ]
  },
  {
   "cell_type": "code",
   "execution_count": 47,
   "metadata": {},
   "outputs": [
    {
     "data": {
      "text/plain": [
       "<Figure size 640x480 with 0 Axes>"
      ]
     },
     "metadata": {},
     "output_type": "display_data"
    }
   ],
   "source": [
    "geo_series.plot(color = 'red', ax=ax)\n",
    "data.exterior.plot(color='blue', ax= ax)\n",
    "plt.show()"
   ]
  },
  {
   "cell_type": "code",
   "execution_count": 48,
   "metadata": {},
   "outputs": [
    {
     "name": "stdout",
     "output_type": "stream",
     "text": [
      "Saved as 0.png\n",
      "Saved as 1.png\n"
     ]
    }
   ],
   "source": [
    "from image_downloading import run\n",
    "\n",
    "\n",
    "for idx, bound in enumerate(geo_series):\n",
    "    #run func for downloading images and saving them\n",
    "    run(idx=idx,bound=bound.bounds)\n",
    "    pass"
   ]
  },
  {
   "cell_type": "code",
   "execution_count": 5,
   "metadata": {},
   "outputs": [],
   "source": [
    "import cv2\n",
    "import os"
   ]
  },
  {
   "cell_type": "code",
   "execution_count": 19,
   "metadata": {},
   "outputs": [],
   "source": [
    "fi = cv2.imread(\"annotations\\\\0.png\")"
   ]
  },
  {
   "cell_type": "code",
   "execution_count": 25,
   "metadata": {},
   "outputs": [],
   "source": [
    "path = r\"data\\\\annotations\\\\Lâm Đồng\\\\Đà Lạt\\\\12\\\\1.png\""
   ]
  },
  {
   "cell_type": "code",
   "execution_count": 26,
   "metadata": {},
   "outputs": [
    {
     "data": {
      "text/plain": [
       "'data\\\\\\\\annotations\\\\\\\\Lâm Đồng\\\\\\\\Đà Lạt\\\\\\\\12\\\\\\\\1.png'"
      ]
     },
     "execution_count": 26,
     "metadata": {},
     "output_type": "execute_result"
    }
   ],
   "source": [
    "# file_path =os.path.join(path,\"1.png\")\n",
    "file_path=path\n",
    "file_path"
   ]
  },
  {
   "cell_type": "code",
   "execution_count": 9,
   "metadata": {},
   "outputs": [],
   "source": [
    "fi = open(file_path,\"r\")\n",
    "fi"
   ]
  },
  {
   "cell_type": "code",
   "execution_count": 49,
   "metadata": {},
   "outputs": [],
   "source": [
    "path = r\"data\\\\annotations\\\\Lâm Đồng\\\\Đà Lạt\\\\12\\\\1.png\"\n",
    "unicode_path = path.encode('utf-8').decode('unicode_escape')\n",
    "fi = cv2.imread(unicode_path)"
   ]
  },
  {
   "cell_type": "code",
   "execution_count": 50,
   "metadata": {},
   "outputs": [
    {
     "data": {
      "text/plain": [
       "'data\\\\annotations\\\\LÃ¢m Ä\\x90á»\\x93ng\\\\Ä\\x90Ã\\xa0 Láº¡t\\\\12\\\\1.png'"
      ]
     },
     "execution_count": 50,
     "metadata": {},
     "output_type": "execute_result"
    }
   ],
   "source": [
    "unicode_path"
   ]
  },
  {
   "cell_type": "code",
   "execution_count": 44,
   "metadata": {},
   "outputs": [
    {
     "ename": "error",
     "evalue": "OpenCV(4.9.0) D:\\a\\opencv-python\\opencv-python\\opencv\\modules\\highgui\\src\\window.cpp:971: error: (-215:Assertion failed) size.width>0 && size.height>0 in function 'cv::imshow'\n",
     "output_type": "error",
     "traceback": [
      "\u001b[1;31m---------------------------------------------------------------------------\u001b[0m",
      "\u001b[1;31merror\u001b[0m                                     Traceback (most recent call last)",
      "Cell \u001b[1;32mIn[44], line 1\u001b[0m\n\u001b[1;32m----> 1\u001b[0m \u001b[43mcv2\u001b[49m\u001b[38;5;241;43m.\u001b[39;49m\u001b[43mimshow\u001b[49m\u001b[43m(\u001b[49m\u001b[38;5;124;43m\"\u001b[39;49m\u001b[38;5;124;43ma\u001b[39;49m\u001b[38;5;124;43m\"\u001b[39;49m\u001b[43m,\u001b[49m\u001b[43mfi\u001b[49m\u001b[43m)\u001b[49m\n\u001b[0;32m      2\u001b[0m cv2\u001b[38;5;241m.\u001b[39mwaitKey(\u001b[38;5;241m0\u001b[39m)\n\u001b[0;32m      3\u001b[0m cv2\u001b[38;5;241m.\u001b[39mdestroyAllWindows()\n",
      "\u001b[1;31merror\u001b[0m: OpenCV(4.9.0) D:\\a\\opencv-python\\opencv-python\\opencv\\modules\\highgui\\src\\window.cpp:971: error: (-215:Assertion failed) size.width>0 && size.height>0 in function 'cv::imshow'\n"
     ]
    }
   ],
   "source": [
    "cv2.imshow(\"a\",fi)\n",
    "cv2.waitKey(0)\n",
    "cv2.destroyAllWindows()"
   ]
  },
  {
   "cell_type": "code",
   "execution_count": 63,
   "metadata": {},
   "outputs": [],
   "source": [
    "import imageio.v3 as iio\n",
    "import cv2\n",
    "import os\n",
    "\n",
    "# Ensure the path is correctly handled\n",
    "path = \"data\\\\annotations\\\\Lâm Đồng\\\\Đà Lạt\\\\12\\\\1.png\"\n",
    "\n",
    "# Convert to absolute path\n",
    "# absolute_path = os.path.abspath(path)\n",
    "\n",
    "# Check if the file exists\n",
    "if not os.path.exists(path):\n",
    "    print(f\"File does not exist: {path}\")\n",
    "else:\n",
    "    try:\n",
    "        # Read the image using imageio\n",
    "        image = iio.imread(path)\n",
    "\n",
    "        # Convert the image to a format compatible with OpenCV\n",
    "        image = cv2.cvtColor(image, cv2.COLOR_RGB2BGR)\n",
    "\n",
    "        # Display the image\n",
    "        cv2.imshow(\"Image\", image)\n",
    "        # Wait for a key press to close the window\n",
    "        cv2.waitKey(0)\n",
    "        cv2.destroyAllWindows()\n",
    "    except Exception as e:\n",
    "        print(f\"Failed to read the image with imageio: {e}\")\n"
   ]
  },
  {
   "cell_type": "code",
   "execution_count": 54,
   "metadata": {},
   "outputs": [
    {
     "name": "stdout",
     "output_type": "stream",
     "text": [
      "Collecting imageio\n",
      "  Downloading imageio-2.34.1-py3-none-any.whl (313 kB)\n",
      "     -------------------------------------- 313.5/313.5 kB 1.6 MB/s eta 0:00:00\n",
      "Requirement already satisfied: numpy in .\\.venv\\lib\\site-packages (from imageio) (1.26.4)\n",
      "Requirement already satisfied: pillow>=8.3.2 in .\\.venv\\lib\\site-packages (from imageio) (10.3.0)\n",
      "Installing collected packages: imageio\n",
      "Successfully installed imageio-2.34.1\n"
     ]
    },
    {
     "name": "stderr",
     "output_type": "stream",
     "text": [
      "\n",
      "[notice] A new release of pip available: 22.3 -> 24.0\n",
      "[notice] To update, run: python.exe -m pip install --upgrade pip\n"
     ]
    }
   ],
   "source": [
    "!pip install imageio"
   ]
  },
  {
   "cell_type": "code",
   "execution_count": null,
   "metadata": {},
   "outputs": [],
   "source": []
  }
 ],
 "metadata": {
  "kernelspec": {
   "display_name": ".venv",
   "language": "python",
   "name": "python3"
  },
  "language_info": {
   "codemirror_mode": {
    "name": "ipython",
    "version": 3
   },
   "file_extension": ".py",
   "mimetype": "text/x-python",
   "name": "python",
   "nbconvert_exporter": "python",
   "pygments_lexer": "ipython3",
   "version": "3.11.0"
  }
 },
 "nbformat": 4,
 "nbformat_minor": 2
}
