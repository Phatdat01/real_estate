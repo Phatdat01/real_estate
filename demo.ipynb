{
 "cells": [
  {
   "cell_type": "code",
   "execution_count": 27,
   "metadata": {},
   "outputs": [],
   "source": [
    "from geo_func import *\n",
    "import geopandas as gpd\n"
   ]
  },
  {
   "cell_type": "code",
   "execution_count": 28,
   "metadata": {},
   "outputs": [
    {
     "data": {
      "text/html": [
       "<div>\n",
       "<style scoped>\n",
       "    .dataframe tbody tr th:only-of-type {\n",
       "        vertical-align: middle;\n",
       "    }\n",
       "\n",
       "    .dataframe tbody tr th {\n",
       "        vertical-align: top;\n",
       "    }\n",
       "\n",
       "    .dataframe thead th {\n",
       "        text-align: right;\n",
       "    }\n",
       "</style>\n",
       "<table border=\"1\" class=\"dataframe\">\n",
       "  <thead>\n",
       "    <tr style=\"text-align: right;\">\n",
       "      <th></th>\n",
       "      <th>ID_0</th>\n",
       "      <th>ISO</th>\n",
       "      <th>NAME_0</th>\n",
       "      <th>ID_1</th>\n",
       "      <th>NAME_1</th>\n",
       "      <th>ID_2</th>\n",
       "      <th>NAME_2</th>\n",
       "      <th>ID_3</th>\n",
       "      <th>NAME_3</th>\n",
       "      <th>CCN_3</th>\n",
       "      <th>CCA_3</th>\n",
       "      <th>TYPE_3</th>\n",
       "      <th>ENGTYPE_3</th>\n",
       "      <th>NL_NAME_3</th>\n",
       "      <th>VARNAME_3</th>\n",
       "      <th>geometry</th>\n",
       "    </tr>\n",
       "  </thead>\n",
       "  <tbody>\n",
       "    <tr>\n",
       "      <th>0</th>\n",
       "      <td>250</td>\n",
       "      <td>VNM</td>\n",
       "      <td>Vietnam</td>\n",
       "      <td>1</td>\n",
       "      <td>Đà Nẵng</td>\n",
       "      <td>1</td>\n",
       "      <td>Cẩm Lệ</td>\n",
       "      <td>1</td>\n",
       "      <td>Hòa Phát</td>\n",
       "      <td>0</td>\n",
       "      <td>None</td>\n",
       "      <td>Commune</td>\n",
       "      <td>Commune</td>\n",
       "      <td>None</td>\n",
       "      <td>None</td>\n",
       "      <td>POLYGON ((108.17028 16.01591, 108.16991 16.016...</td>\n",
       "    </tr>\n",
       "    <tr>\n",
       "      <th>1</th>\n",
       "      <td>250</td>\n",
       "      <td>VNM</td>\n",
       "      <td>Vietnam</td>\n",
       "      <td>1</td>\n",
       "      <td>Đà Nẵng</td>\n",
       "      <td>1</td>\n",
       "      <td>Cẩm Lệ</td>\n",
       "      <td>2</td>\n",
       "      <td>Hòa Xuân</td>\n",
       "      <td>0</td>\n",
       "      <td>None</td>\n",
       "      <td>Commune</td>\n",
       "      <td>Commune</td>\n",
       "      <td>None</td>\n",
       "      <td>None</td>\n",
       "      <td>POLYGON ((108.20899 15.99559, 108.21204 15.999...</td>\n",
       "    </tr>\n",
       "  </tbody>\n",
       "</table>\n",
       "</div>"
      ],
      "text/plain": [
       "   ID_0  ISO   NAME_0  ID_1   NAME_1  ID_2  NAME_2  ID_3    NAME_3  CCN_3  \\\n",
       "0   250  VNM  Vietnam     1  Đà Nẵng     1  Cẩm Lệ     1  Hòa Phát      0   \n",
       "1   250  VNM  Vietnam     1  Đà Nẵng     1  Cẩm Lệ     2  Hòa Xuân      0   \n",
       "\n",
       "  CCA_3   TYPE_3 ENGTYPE_3 NL_NAME_3 VARNAME_3  \\\n",
       "0  None  Commune   Commune      None      None   \n",
       "1  None  Commune   Commune      None      None   \n",
       "\n",
       "                                            geometry  \n",
       "0  POLYGON ((108.17028 16.01591, 108.16991 16.016...  \n",
       "1  POLYGON ((108.20899 15.99559, 108.21204 15.999...  "
      ]
     },
     "execution_count": 28,
     "metadata": {},
     "output_type": "execute_result"
    }
   ],
   "source": [
    "data = gpd.read_file('geometry_data/VNM_adm3.shp')\n",
    "data = gpd.GeoDataFrame(data, crs='WGS84')\n",
    "data.head(2)"
   ]
  },
  {
   "cell_type": "code",
   "execution_count": 29,
   "metadata": {},
   "outputs": [
    {
     "data": {
      "text/plain": [
       "5485    POLYGON ((108.49611 11.96060, 108.49569 11.960...\n",
       "Name: geometry, dtype: geometry"
      ]
     },
     "execution_count": 29,
     "metadata": {},
     "output_type": "execute_result"
    }
   ],
   "source": [
    "data = read_geopandas_data()\n",
    "data"
   ]
  },
  {
   "cell_type": "code",
   "execution_count": 30,
   "metadata": {},
   "outputs": [
    {
     "data": {
      "text/plain": [
       "5485    POLYGON ((108.46599 11.95429, 108.50732 11.954...\n",
       "dtype: geometry"
      ]
     },
     "execution_count": 30,
     "metadata": {},
     "output_type": "execute_result"
    }
   ],
   "source": [
    "side_length=0.025\n",
    "data.envelope"
   ]
  },
  {
   "cell_type": "code",
   "execution_count": 31,
   "metadata": {},
   "outputs": [
    {
     "data": {
      "text/html": [
       "<div>\n",
       "<style scoped>\n",
       "    .dataframe tbody tr th:only-of-type {\n",
       "        vertical-align: middle;\n",
       "    }\n",
       "\n",
       "    .dataframe tbody tr th {\n",
       "        vertical-align: top;\n",
       "    }\n",
       "\n",
       "    .dataframe thead th {\n",
       "        text-align: right;\n",
       "    }\n",
       "</style>\n",
       "<table border=\"1\" class=\"dataframe\">\n",
       "  <thead>\n",
       "    <tr style=\"text-align: right;\">\n",
       "      <th></th>\n",
       "      <th>minx</th>\n",
       "      <th>miny</th>\n",
       "      <th>maxx</th>\n",
       "      <th>maxy</th>\n",
       "    </tr>\n",
       "  </thead>\n",
       "  <tbody>\n",
       "    <tr>\n",
       "      <th>5485</th>\n",
       "      <td>108.465988</td>\n",
       "      <td>11.954291</td>\n",
       "      <td>108.507317</td>\n",
       "      <td>11.992592</td>\n",
       "    </tr>\n",
       "  </tbody>\n",
       "</table>\n",
       "</div>"
      ],
      "text/plain": [
       "            minx       miny        maxx       maxy\n",
       "5485  108.465988  11.954291  108.507317  11.992592"
      ]
     },
     "execution_count": 31,
     "metadata": {},
     "output_type": "execute_result"
    }
   ],
   "source": [
    "data.bounds"
   ]
  },
  {
   "cell_type": "code",
   "execution_count": 32,
   "metadata": {},
   "outputs": [
    {
     "data": {
      "text/plain": [
       "(108.4659881591798, 11.954291343689022, 108.50731658935553, 11.992591857910156)"
      ]
     },
     "execution_count": 32,
     "metadata": {},
     "output_type": "execute_result"
    }
   ],
   "source": [
    "x1, y1, x2, y2 = data.bounds.iloc[0]\n",
    "width = x2 - x1\n",
    "height = y2 - y1\n",
    "x1, y1, x2, y2"
   ]
  },
  {
   "cell_type": "code",
   "execution_count": 33,
   "metadata": {},
   "outputs": [
    {
     "data": {
      "text/plain": [
       "(2, 2)"
      ]
     },
     "execution_count": 33,
     "metadata": {},
     "output_type": "execute_result"
    }
   ],
   "source": [
    "xcells = int(np.round(width / side_length))\n",
    "ycells = int(np.round(height / side_length))\n",
    "xcells, ycells"
   ]
  },
  {
   "cell_type": "code",
   "execution_count": 34,
   "metadata": {},
   "outputs": [
    {
     "data": {
      "text/plain": [
       "(array([108.46598816, 108.48665237, 108.50731659]),\n",
       " array([11.95429134, 11.9734416 , 11.99259186]))"
      ]
     },
     "execution_count": 34,
     "metadata": {},
     "output_type": "execute_result"
    }
   ],
   "source": [
    "yindices = np.linspace(y1, y2, ycells + 1)\n",
    "xindices = np.linspace(x1, x2, xcells + 1)\n",
    "xindices,yindices"
   ]
  },
  {
   "cell_type": "code",
   "execution_count": 35,
   "metadata": {},
   "outputs": [
    {
     "data": {
      "text/plain": [
       "([<LINESTRING (108.466 11.954, 108.466 11.993)>,\n",
       "  <LINESTRING (108.487 11.954, 108.487 11.993)>,\n",
       "  <LINESTRING (108.507 11.954, 108.507 11.993)>],\n",
       " [<LINESTRING (108.466 11.954, 108.507 11.954)>,\n",
       "  <LINESTRING (108.466 11.973, 108.507 11.973)>,\n",
       "  <LINESTRING (108.466 11.993, 108.507 11.993)>])"
      ]
     },
     "execution_count": 35,
     "metadata": {},
     "output_type": "execute_result"
    }
   ],
   "source": [
    "horizontal_splitters = [\n",
    "        LineString([(x, yindices[0]), (x, yindices[-1])]) for x in xindices\n",
    "    ]\n",
    "vertical_splitters = [\n",
    "    LineString([(xindices[0], y), (xindices[-1], y)]) for y in yindices\n",
    "]\n",
    "horizontal_splitters, vertical_splitters"
   ]
  },
  {
   "cell_type": "code",
   "execution_count": 36,
   "metadata": {},
   "outputs": [],
   "source": [
    "import matplotlib.pyplot as plt\n",
    "import matplotlib.patches as patches\n",
    "\n",
    "G = np.random.choice(data.geometry.values)"
   ]
  },
  {
   "cell_type": "code",
   "execution_count": 37,
   "metadata": {},
   "outputs": [],
   "source": [
    "Rectangle    = G.envelope\n",
    "squares      = get_squares_from_rect(Rectangle, side_length=0.025)"
   ]
  },
  {
   "cell_type": "code",
   "execution_count": 38,
   "metadata": {},
   "outputs": [
    {
     "data": {
      "text/plain": [
       "[<POLYGON ((108.507 11.954, 108.487 11.954, 108.487 11.973, 108.507 11.973, 1...>,\n",
       " <POLYGON ((108.487 11.954, 108.466 11.954, 108.466 11.973, 108.487 11.973, 1...>,\n",
       " <POLYGON ((108.466 11.973, 108.466 11.993, 108.487 11.993, 108.487 11.973, 1...>,\n",
       " <POLYGON ((108.487 11.993, 108.507 11.993, 108.507 11.973, 108.487 11.973, 1...>]"
      ]
     },
     "execution_count": 38,
     "metadata": {},
     "output_type": "execute_result"
    }
   ],
   "source": [
    "squares"
   ]
  },
  {
   "cell_type": "code",
   "execution_count": 39,
   "metadata": {},
   "outputs": [
    {
     "data": {
      "text/plain": [
       "0    POLYGON ((108.50732 11.95429, 108.48665 11.954...\n",
       "1    POLYGON ((108.48665 11.95429, 108.46599 11.954...\n",
       "2    POLYGON ((108.46599 11.97344, 108.46599 11.992...\n",
       "3    POLYGON ((108.48665 11.99259, 108.50732 11.992...\n",
       "dtype: geometry"
      ]
     },
     "execution_count": 39,
     "metadata": {},
     "output_type": "execute_result"
    }
   ],
   "source": [
    "SquareGeoDF  = gpd.GeoSeries(squares)\n",
    "SquareGeoDF"
   ]
  },
  {
   "cell_type": "code",
   "execution_count": 40,
   "metadata": {},
   "outputs": [
    {
     "data": {
      "text/plain": [
       "0    POLYGON ((108.507 11.954, 108.487 11.954, 108....\n",
       "1    POLYGON ((108.487 11.954, 108.466 11.954, 108....\n",
       "2    POLYGON ((108.466 11.973, 108.466 11.993, 108....\n",
       "3    POLYGON ((108.487 11.993, 108.507 11.993, 108....\n",
       "dtype: geometry"
      ]
     },
     "execution_count": 40,
     "metadata": {},
     "output_type": "execute_result"
    }
   ],
   "source": [
    "SquareGeoDF = SquareGeoDF.set_crs('EPSG:32649')\n",
    "SquareGeoDF"
   ]
  },
  {
   "cell_type": "code",
   "execution_count": 41,
   "metadata": {},
   "outputs": [
    {
     "data": {
      "text/plain": [
       "0    POLYGON ((108.507 11.954, 108.487 11.954, 108....\n",
       "1    POLYGON ((108.487 11.954, 108.466 11.954, 108....\n",
       "2    POLYGON ((108.466 11.973, 108.466 11.993, 108....\n",
       "3    POLYGON ((108.487 11.993, 108.507 11.993, 108....\n",
       "dtype: geometry"
      ]
     },
     "execution_count": 41,
     "metadata": {},
     "output_type": "execute_result"
    }
   ],
   "source": [
    "Geoms        = SquareGeoDF.geometry\n",
    "Geoms"
   ]
  },
  {
   "cell_type": "code",
   "execution_count": 42,
   "metadata": {},
   "outputs": [
    {
     "data": {
      "text/plain": [
       "[]"
      ]
     },
     "execution_count": 42,
     "metadata": {},
     "output_type": "execute_result"
    }
   ],
   "source": [
    "geoms = [g for g in Geoms if ((g.intersection(G)).area / g.area) >= 0.9]\n",
    "geoms"
   ]
  },
  {
   "cell_type": "code",
   "execution_count": 43,
   "metadata": {},
   "outputs": [],
   "source": [
    "G = np.random.choice(data.geometry.values)\n",
    "squares   = split_polygon(G,shape='square',thresh=0,side_length=0.005)"
   ]
  },
  {
   "cell_type": "code",
   "execution_count": 44,
   "metadata": {},
   "outputs": [
    {
     "data": {
      "text/plain": [
       "[<POLYGON ((108.507 11.954, 108.502 11.954, 108.502 11.959, 108.507 11.959, 1...>,\n",
       " <POLYGON ((108.502 11.954, 108.497 11.954, 108.497 11.959, 108.502 11.959, 1...>,\n",
       " <POLYGON ((108.497 11.954, 108.492 11.954, 108.492 11.959, 108.497 11.959, 1...>,\n",
       " <POLYGON ((108.492 11.954, 108.487 11.954, 108.487 11.959, 108.492 11.959, 1...>,\n",
       " <POLYGON ((108.487 11.954, 108.481 11.954, 108.481 11.959, 108.487 11.959, 1...>,\n",
       " <POLYGON ((108.481 11.954, 108.476 11.954, 108.476 11.959, 108.481 11.959, 1...>,\n",
       " <POLYGON ((108.476 11.954, 108.471 11.954, 108.471 11.959, 108.476 11.959, 1...>,\n",
       " <POLYGON ((108.471 11.954, 108.466 11.954, 108.466 11.959, 108.471 11.959, 1...>,\n",
       " <POLYGON ((108.466 11.959, 108.466 11.964, 108.471 11.964, 108.471 11.959, 1...>,\n",
       " <POLYGON ((108.471 11.964, 108.476 11.964, 108.476 11.959, 108.471 11.959, 1...>,\n",
       " <POLYGON ((108.476 11.964, 108.481 11.964, 108.481 11.959, 108.476 11.959, 1...>,\n",
       " <POLYGON ((108.481 11.964, 108.487 11.964, 108.487 11.959, 108.481 11.959, 1...>,\n",
       " <POLYGON ((108.487 11.964, 108.492 11.964, 108.492 11.959, 108.487 11.959, 1...>,\n",
       " <POLYGON ((108.492 11.964, 108.497 11.964, 108.497 11.959, 108.492 11.959, 1...>,\n",
       " <POLYGON ((108.497 11.964, 108.502 11.964, 108.502 11.959, 108.497 11.959, 1...>,\n",
       " <POLYGON ((108.502 11.964, 108.507 11.964, 108.507 11.959, 108.502 11.959, 1...>,\n",
       " <POLYGON ((108.466 11.964, 108.466 11.969, 108.471 11.969, 108.471 11.964, 1...>,\n",
       " <POLYGON ((108.471 11.969, 108.476 11.969, 108.476 11.964, 108.471 11.964, 1...>,\n",
       " <POLYGON ((108.476 11.969, 108.481 11.969, 108.481 11.964, 108.476 11.964, 1...>,\n",
       " <POLYGON ((108.481 11.969, 108.487 11.969, 108.487 11.964, 108.481 11.964, 1...>,\n",
       " <POLYGON ((108.487 11.969, 108.492 11.969, 108.492 11.964, 108.487 11.964, 1...>,\n",
       " <POLYGON ((108.492 11.969, 108.497 11.969, 108.497 11.964, 108.492 11.964, 1...>,\n",
       " <POLYGON ((108.497 11.969, 108.502 11.969, 108.502 11.964, 108.497 11.964, 1...>,\n",
       " <POLYGON ((108.502 11.969, 108.507 11.969, 108.507 11.964, 108.502 11.964, 1...>,\n",
       " <POLYGON ((108.466 11.969, 108.466 11.973, 108.471 11.973, 108.471 11.969, 1...>,\n",
       " <POLYGON ((108.471 11.973, 108.476 11.973, 108.476 11.969, 108.471 11.969, 1...>,\n",
       " <POLYGON ((108.476 11.973, 108.481 11.973, 108.481 11.969, 108.476 11.969, 1...>,\n",
       " <POLYGON ((108.481 11.973, 108.487 11.973, 108.487 11.969, 108.481 11.969, 1...>,\n",
       " <POLYGON ((108.487 11.973, 108.492 11.973, 108.492 11.969, 108.487 11.969, 1...>,\n",
       " <POLYGON ((108.492 11.973, 108.497 11.973, 108.497 11.969, 108.492 11.969, 1...>,\n",
       " <POLYGON ((108.497 11.973, 108.502 11.973, 108.502 11.969, 108.497 11.969, 1...>,\n",
       " <POLYGON ((108.502 11.973, 108.507 11.973, 108.507 11.969, 108.502 11.969, 1...>,\n",
       " <POLYGON ((108.466 11.973, 108.466 11.978, 108.471 11.978, 108.471 11.973, 1...>,\n",
       " <POLYGON ((108.471 11.978, 108.476 11.978, 108.476 11.973, 108.471 11.973, 1...>,\n",
       " <POLYGON ((108.476 11.978, 108.481 11.978, 108.481 11.973, 108.476 11.973, 1...>,\n",
       " <POLYGON ((108.481 11.978, 108.487 11.978, 108.487 11.973, 108.481 11.973, 1...>,\n",
       " <POLYGON ((108.487 11.978, 108.492 11.978, 108.492 11.973, 108.487 11.973, 1...>,\n",
       " <POLYGON ((108.492 11.978, 108.497 11.978, 108.497 11.973, 108.492 11.973, 1...>,\n",
       " <POLYGON ((108.497 11.978, 108.502 11.978, 108.502 11.973, 108.497 11.973, 1...>,\n",
       " <POLYGON ((108.502 11.978, 108.507 11.978, 108.507 11.973, 108.502 11.973, 1...>,\n",
       " <POLYGON ((108.466 11.978, 108.466 11.983, 108.471 11.983, 108.471 11.978, 1...>,\n",
       " <POLYGON ((108.471 11.983, 108.476 11.983, 108.476 11.978, 108.471 11.978, 1...>,\n",
       " <POLYGON ((108.476 11.983, 108.481 11.983, 108.481 11.978, 108.476 11.978, 1...>,\n",
       " <POLYGON ((108.481 11.983, 108.487 11.983, 108.487 11.978, 108.481 11.978, 1...>,\n",
       " <POLYGON ((108.487 11.983, 108.492 11.983, 108.492 11.978, 108.487 11.978, 1...>,\n",
       " <POLYGON ((108.492 11.983, 108.497 11.983, 108.497 11.978, 108.492 11.978, 1...>,\n",
       " <POLYGON ((108.497 11.983, 108.502 11.983, 108.502 11.978, 108.497 11.978, 1...>,\n",
       " <POLYGON ((108.502 11.983, 108.507 11.983, 108.507 11.978, 108.502 11.978, 1...>,\n",
       " <POLYGON ((108.466 11.983, 108.466 11.988, 108.471 11.988, 108.471 11.983, 1...>,\n",
       " <POLYGON ((108.471 11.988, 108.476 11.988, 108.476 11.983, 108.471 11.983, 1...>,\n",
       " <POLYGON ((108.476 11.988, 108.481 11.988, 108.481 11.983, 108.476 11.983, 1...>,\n",
       " <POLYGON ((108.481 11.988, 108.487 11.988, 108.487 11.983, 108.481 11.983, 1...>,\n",
       " <POLYGON ((108.487 11.988, 108.492 11.988, 108.492 11.983, 108.487 11.983, 1...>,\n",
       " <POLYGON ((108.492 11.988, 108.497 11.988, 108.497 11.983, 108.492 11.983, 1...>,\n",
       " <POLYGON ((108.497 11.988, 108.502 11.988, 108.502 11.983, 108.497 11.983, 1...>,\n",
       " <POLYGON ((108.502 11.988, 108.507 11.988, 108.507 11.983, 108.502 11.983, 1...>,\n",
       " <POLYGON ((108.466 11.988, 108.466 11.993, 108.471 11.993, 108.471 11.988, 1...>,\n",
       " <POLYGON ((108.471 11.993, 108.476 11.993, 108.476 11.988, 108.471 11.988, 1...>,\n",
       " <POLYGON ((108.476 11.993, 108.481 11.993, 108.481 11.988, 108.476 11.988, 1...>,\n",
       " <POLYGON ((108.481 11.993, 108.487 11.993, 108.487 11.988, 108.481 11.988, 1...>,\n",
       " <POLYGON ((108.487 11.993, 108.492 11.993, 108.492 11.988, 108.487 11.988, 1...>,\n",
       " <POLYGON ((108.492 11.993, 108.497 11.993, 108.497 11.988, 108.492 11.988, 1...>,\n",
       " <POLYGON ((108.497 11.993, 108.502 11.993, 108.502 11.988, 108.497 11.988, 1...>,\n",
       " <POLYGON ((108.502 11.993, 108.507 11.993, 108.507 11.988, 108.502 11.988, 1...>]"
      ]
     },
     "execution_count": 44,
     "metadata": {},
     "output_type": "execute_result"
    }
   ],
   "source": [
    "squares"
   ]
  },
  {
   "cell_type": "code",
   "execution_count": 45,
   "metadata": {},
   "outputs": [
    {
     "data": {
      "text/plain": [
       "0    POLYGON ((108.46599 11.98780, 108.46599 11.992...\n",
       "1    POLYGON ((108.50732 11.95429, 108.50215 11.954...\n",
       "dtype: geometry"
      ]
     },
     "execution_count": 45,
     "metadata": {},
     "output_type": "execute_result"
    }
   ],
   "source": [
    "geo_series = gpd.GeoSeries([squares[56], squares[0]])\n",
    "geo_series"
   ]
  },
  {
   "cell_type": "code",
   "execution_count": 46,
   "metadata": {},
   "outputs": [
    {
     "data": {
      "image/png": "[encoded data removed]",
      "text/plain": [
       "<Figure size 640x480 with 1 Axes>"
      ]
     },
     "metadata": {},
     "output_type": "display_data"
    }
   ],
   "source": [
    "fig, ax = plt.subplots()"
   ]
  },
  {
   "cell_type": "code",
   "execution_count": 47,
   "metadata": {},
   "outputs": [
    {
     "data": {
      "text/plain": [
       "<Figure size 640x480 with 0 Axes>"
      ]
     },
     "metadata": {},
     "output_type": "display_data"
    }
   ],
   "source": [
    "geo_series.plot(color = 'red', ax=ax)\n",
    "data.exterior.plot(color='blue', ax= ax)\n",
    "plt.show()"
   ]
  },
  {
   "cell_type": "code",
   "execution_count": 48,
   "metadata": {},
   "outputs": [
    {
     "name": "stdout",
     "output_type": "stream",
     "text": [
      "Saved as 0.png\n",
      "Saved as 1.png\n"
     ]
    }
   ],
   "source": [
    "from image_downloading import run\n",
    "\n",
    "\n",
    "for idx, bound in enumerate(geo_series):\n",
    "    #run func for downloading images and saving them\n",
    "    run(idx=idx,bound=bound.bounds)\n",
    "    pass"
   ]
  }
 ],
 "metadata": {
  "kernelspec": {
   "display_name": ".venv",
   "language": "python",
   "name": "python3"
  },
  "language_info": {
   "codemirror_mode": {
    "name": "ipython",
    "version": 3
   },
   "file_extension": ".py",
   "mimetype": "text/x-python",
   "name": "python",
   "nbconvert_exporter": "python",
   "pygments_lexer": "ipython3",
   "version": "3.11.0"
  }
 },
 "nbformat": 4,
 "nbformat_minor": 2
}
