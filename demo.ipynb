{
 "cells": [
  {
   "cell_type": "code",
   "execution_count": 1,
   "metadata": {},
   "outputs": [],
   "source": [
    "from geo_func import *\n",
    "import geopandas as gpd\n"
   ]
  },
  {
   "cell_type": "code",
   "execution_count": 2,
   "metadata": {},
   "outputs": [
    {
     "data": {
      "text/html": [
       "<div>\n",
       "<style scoped>\n",
       "    .dataframe tbody tr th:only-of-type {\n",
       "        vertical-align: middle;\n",
       "    }\n",
       "\n",
       "    .dataframe tbody tr th {\n",
       "        vertical-align: top;\n",
       "    }\n",
       "\n",
       "    .dataframe thead th {\n",
       "        text-align: right;\n",
       "    }\n",
       "</style>\n",
       "<table border=\"1\" class=\"dataframe\">\n",
       "  <thead>\n",
       "    <tr style=\"text-align: right;\">\n",
       "      <th></th>\n",
       "      <th>ID_0</th>\n",
       "      <th>ISO</th>\n",
       "      <th>NAME_0</th>\n",
       "      <th>ID_1</th>\n",
       "      <th>NAME_1</th>\n",
       "      <th>ID_2</th>\n",
       "      <th>NAME_2</th>\n",
       "      <th>ID_3</th>\n",
       "      <th>NAME_3</th>\n",
       "      <th>CCN_3</th>\n",
       "      <th>CCA_3</th>\n",
       "      <th>TYPE_3</th>\n",
       "      <th>ENGTYPE_3</th>\n",
       "      <th>NL_NAME_3</th>\n",
       "      <th>VARNAME_3</th>\n",
       "      <th>geometry</th>\n",
       "    </tr>\n",
       "  </thead>\n",
       "  <tbody>\n",
       "    <tr>\n",
       "      <th>0</th>\n",
       "      <td>250</td>\n",
       "      <td>VNM</td>\n",
       "      <td>Vietnam</td>\n",
       "      <td>1</td>\n",
       "      <td>Đà Nẵng</td>\n",
       "      <td>1</td>\n",
       "      <td>Cẩm Lệ</td>\n",
       "      <td>1</td>\n",
       "      <td>Hòa Phát</td>\n",
       "      <td>0</td>\n",
       "      <td>None</td>\n",
       "      <td>Commune</td>\n",
       "      <td>Commune</td>\n",
       "      <td>None</td>\n",
       "      <td>None</td>\n",
       "      <td>POLYGON ((108.17028 16.01591, 108.16991 16.016...</td>\n",
       "    </tr>\n",
       "    <tr>\n",
       "      <th>1</th>\n",
       "      <td>250</td>\n",
       "      <td>VNM</td>\n",
       "      <td>Vietnam</td>\n",
       "      <td>1</td>\n",
       "      <td>Đà Nẵng</td>\n",
       "      <td>1</td>\n",
       "      <td>Cẩm Lệ</td>\n",
       "      <td>2</td>\n",
       "      <td>Hòa Xuân</td>\n",
       "      <td>0</td>\n",
       "      <td>None</td>\n",
       "      <td>Commune</td>\n",
       "      <td>Commune</td>\n",
       "      <td>None</td>\n",
       "      <td>None</td>\n",
       "      <td>POLYGON ((108.20899 15.99559, 108.21204 15.999...</td>\n",
       "    </tr>\n",
       "  </tbody>\n",
       "</table>\n",
       "</div>"
      ],
      "text/plain": [
       "   ID_0  ISO   NAME_0  ID_1   NAME_1  ID_2  NAME_2  ID_3    NAME_3  CCN_3  \\\n",
       "0   250  VNM  Vietnam     1  Đà Nẵng     1  Cẩm Lệ     1  Hòa Phát      0   \n",
       "1   250  VNM  Vietnam     1  Đà Nẵng     1  Cẩm Lệ     2  Hòa Xuân      0   \n",
       "\n",
       "  CCA_3   TYPE_3 ENGTYPE_3 NL_NAME_3 VARNAME_3  \\\n",
       "0  None  Commune   Commune      None      None   \n",
       "1  None  Commune   Commune      None      None   \n",
       "\n",
       "                                            geometry  \n",
       "0  POLYGON ((108.17028 16.01591, 108.16991 16.016...  \n",
       "1  POLYGON ((108.20899 15.99559, 108.21204 15.999...  "
      ]
     },
     "execution_count": 2,
     "metadata": {},
     "output_type": "execute_result"
    }
   ],
   "source": [
    "data = gpd.read_file('geometry_data/VNM_adm3.shp')\n",
    "data = gpd.GeoDataFrame(data, crs='WGS84')\n",
    "data.head(2)"
   ]
  },
  {
   "cell_type": "code",
   "execution_count": 14,
   "metadata": {},
   "outputs": [
    {
     "data": {
      "text/html": [
       "<div>\n",
       "<style scoped>\n",
       "    .dataframe tbody tr th:only-of-type {\n",
       "        vertical-align: middle;\n",
       "    }\n",
       "\n",
       "    .dataframe tbody tr th {\n",
       "        vertical-align: top;\n",
       "    }\n",
       "\n",
       "    .dataframe thead th {\n",
       "        text-align: right;\n",
       "    }\n",
       "</style>\n",
       "<table border=\"1\" class=\"dataframe\">\n",
       "  <thead>\n",
       "    <tr style=\"text-align: right;\">\n",
       "      <th></th>\n",
       "      <th>ID_0</th>\n",
       "      <th>ISO</th>\n",
       "      <th>NAME_0</th>\n",
       "      <th>ID_1</th>\n",
       "      <th>NAME_1</th>\n",
       "      <th>ID_2</th>\n",
       "      <th>NAME_2</th>\n",
       "      <th>ID_3</th>\n",
       "      <th>NAME_3</th>\n",
       "      <th>CCN_3</th>\n",
       "      <th>CCA_3</th>\n",
       "      <th>TYPE_3</th>\n",
       "      <th>ENGTYPE_3</th>\n",
       "      <th>NL_NAME_3</th>\n",
       "      <th>VARNAME_3</th>\n",
       "      <th>geometry</th>\n",
       "    </tr>\n",
       "  </thead>\n",
       "  <tbody>\n",
       "    <tr>\n",
       "      <th>5485</th>\n",
       "      <td>250</td>\n",
       "      <td>VNM</td>\n",
       "      <td>Vietnam</td>\n",
       "      <td>36</td>\n",
       "      <td>Lâm Đồng</td>\n",
       "      <td>376</td>\n",
       "      <td>Đà Lạt</td>\n",
       "      <td>5486</td>\n",
       "      <td>12</td>\n",
       "      <td>0</td>\n",
       "      <td>None</td>\n",
       "      <td>Ward</td>\n",
       "      <td>Ward</td>\n",
       "      <td>None</td>\n",
       "      <td>None</td>\n",
       "      <td>POLYGON ((108.49611 11.96060, 108.49569 11.960...</td>\n",
       "    </tr>\n",
       "  </tbody>\n",
       "</table>\n",
       "</div>"
      ],
      "text/plain": [
       "      ID_0  ISO   NAME_0  ID_1    NAME_1  ID_2  NAME_2  ID_3 NAME_3  CCN_3  \\\n",
       "5485   250  VNM  Vietnam    36  Lâm Đồng   376  Đà Lạt  5486     12      0   \n",
       "\n",
       "     CCA_3 TYPE_3 ENGTYPE_3 NL_NAME_3 VARNAME_3  \\\n",
       "5485  None   Ward      Ward      None      None   \n",
       "\n",
       "                                               geometry  \n",
       "5485  POLYGON ((108.49611 11.96060, 108.49569 11.960...  "
      ]
     },
     "execution_count": 14,
     "metadata": {},
     "output_type": "execute_result"
    }
   ],
   "source": [
    "DL = data[data['NAME_1']=='Lâm Đồng']\n",
    "DL = DL[DL['NAME_2']=='Đà Lạt']\n",
    "DL=DL[DL['NAME_3']=='12']\n",
    "DL.head()"
   ]
  },
  {
   "cell_type": "code",
   "execution_count": 3,
   "metadata": {},
   "outputs": [
    {
     "data": {
      "text/html": [
       "<div>\n",
       "<style scoped>\n",
       "    .dataframe tbody tr th:only-of-type {\n",
       "        vertical-align: middle;\n",
       "    }\n",
       "\n",
       "    .dataframe tbody tr th {\n",
       "        vertical-align: top;\n",
       "    }\n",
       "\n",
       "    .dataframe thead th {\n",
       "        text-align: right;\n",
       "    }\n",
       "</style>\n",
       "<table border=\"1\" class=\"dataframe\">\n",
       "  <thead>\n",
       "    <tr style=\"text-align: right;\">\n",
       "      <th></th>\n",
       "      <th>ID_0</th>\n",
       "      <th>ISO</th>\n",
       "      <th>NAME_0</th>\n",
       "      <th>ID_1</th>\n",
       "      <th>NAME_1</th>\n",
       "      <th>ID_2</th>\n",
       "      <th>NAME_2</th>\n",
       "      <th>ID_3</th>\n",
       "      <th>NAME_3</th>\n",
       "      <th>CCN_3</th>\n",
       "      <th>CCA_3</th>\n",
       "      <th>TYPE_3</th>\n",
       "      <th>ENGTYPE_3</th>\n",
       "      <th>NL_NAME_3</th>\n",
       "      <th>VARNAME_3</th>\n",
       "      <th>geometry</th>\n",
       "    </tr>\n",
       "  </thead>\n",
       "  <tbody>\n",
       "    <tr>\n",
       "      <th>3903</th>\n",
       "      <td>250</td>\n",
       "      <td>VNM</td>\n",
       "      <td>Vietnam</td>\n",
       "      <td>26</td>\n",
       "      <td>Hồ Chí Minh city</td>\n",
       "      <td>271</td>\n",
       "      <td>Quận 1</td>\n",
       "      <td>3904</td>\n",
       "      <td>Nguyễn Cư Trinh</td>\n",
       "      <td>0</td>\n",
       "      <td>None</td>\n",
       "      <td>Ward</td>\n",
       "      <td>Ward</td>\n",
       "      <td>None</td>\n",
       "      <td>None</td>\n",
       "      <td>POLYGON ((106.68306 10.75928, 106.68277 10.760...</td>\n",
       "    </tr>\n",
       "  </tbody>\n",
       "</table>\n",
       "</div>"
      ],
      "text/plain": [
       "      ID_0  ISO   NAME_0  ID_1            NAME_1  ID_2  NAME_2  ID_3  \\\n",
       "3903   250  VNM  Vietnam    26  Hồ Chí Minh city   271  Quận 1  3904   \n",
       "\n",
       "               NAME_3  CCN_3 CCA_3 TYPE_3 ENGTYPE_3 NL_NAME_3 VARNAME_3  \\\n",
       "3903  Nguyễn Cư Trinh      0  None   Ward      Ward      None      None   \n",
       "\n",
       "                                               geometry  \n",
       "3903  POLYGON ((106.68306 10.75928, 106.68277 10.760...  "
      ]
     },
     "execution_count": 3,
     "metadata": {},
     "output_type": "execute_result"
    }
   ],
   "source": [
    "DL = data[data['NAME_1']=='Hồ Chí Minh city']\n",
    "DL = DL[DL['NAME_2']=='Quận 1']\n",
    "DL=DL[DL['NAME_3']=='Nguyễn Cư Trinh']\n",
    "DL.head()"
   ]
  },
  {
   "cell_type": "code",
   "execution_count": 4,
   "metadata": {},
   "outputs": [
    {
     "data": {
      "image/svg+xml": [
       "<svg xmlns=\"http://www.w3.org/2000/svg\" xmlns:xlink=\"http://www.w3.org/1999/xlink\" width=\"100.0\" height=\"100.0\" viewBox=\"106.68043075561535 10.755922660827636 0.01266601562488745 0.012891082763673012\" preserveAspectRatio=\"xMinYMin meet\"><g transform=\"matrix(1,0,0,-1,0,21.524736404418945)\"><path fill-rule=\"evenodd\" fill=\"#66cc99\" stroke=\"#555555\" stroke-width=\"0.00025782165527346026\" opacity=\"0.6\" d=\"M 106.68305969238281,10.759284973144531 L 106.68276977539068,10.760019302368278 L 106.68236541748053,10.760988235473746 L 106.6819686889649,10.761947631835938 L 106.68119812011719,10.764252662658691 L 106.68110656738293,10.764621734619197 L 106.68090820312511,10.765160560608024 L 106.68138885498047,10.765435218811035 L 106.68181610107428,10.765899658203239 L 106.68408966064459,10.768336296081543 L 106.68470001220714,10.768081665039062 L 106.68589782714838,10.767583847045842 L 106.68790435791021,10.766784667968807 L 106.68864440917974,10.766525268554688 L 106.68934631347656,10.766080856323242 L 106.68959808349615,10.765713691711426 L 106.68987274169933,10.765399932861442 L 106.69033813476562,10.764241218566951 L 106.69261932373047,10.765203475952205 L 106.69068145751953,10.762935638427848 L 106.6894989013673,10.761621475219727 L 106.68643188476574,10.758218765258789 L 106.68483734130865,10.756561279296989 L 106.6842880249024,10.756400108337402 L 106.68376922607433,10.757512092590332 L 106.68305969238281,10.759284973144531 z\" /></g></svg>"
      ],
      "text/plain": [
       "<POLYGON ((106.683 10.759, 106.683 10.76, 106.682 10.761, 106.682 10.762, 10...>"
      ]
     },
     "execution_count": 4,
     "metadata": {},
     "output_type": "execute_result"
    }
   ],
   "source": [
    "DL['geometry'].iloc[0]"
   ]
  },
  {
   "cell_type": "code",
   "execution_count": 6,
   "metadata": {},
   "outputs": [
    {
     "data": {
      "image/svg+xml": [
       "<svg xmlns=\"http://www.w3.org/2000/svg\" xmlns:xlink=\"http://www.w3.org/1999/xlink\" width=\"100.0\" height=\"100.0\" viewBox=\"106.68652503967292 10.76212947845459 0.006333007812429514 0.006445541381836506\" preserveAspectRatio=\"xMinYMin meet\"><g transform=\"matrix(1,0,0,-1,0,21.530704498291016)\"><path fill-rule=\"evenodd\" fill=\"#66cc99\" stroke=\"#555555\" stroke-width=\"0.00012891082763673013\" opacity=\"0.6\" d=\"M 106.68676376342779,10.768336296081543 L 106.69261932373047,10.768336296081543 L 106.69261932373047,10.762368202209473 L 106.68676376342779,10.762368202209473 L 106.68676376342779,10.768336296081543 z\" /></g></svg>"
      ],
      "text/plain": [
       "<POLYGON ((106.687 10.768, 106.693 10.768, 106.693 10.762, 106.687 10.762, 1...>"
      ]
     },
     "execution_count": 6,
     "metadata": {},
     "output_type": "execute_result"
    }
   ],
   "source": [
    "G = np.random.choice(DL['geometry'].geometry.values)\n",
    "\n",
    "squares   = split_polygon(G,shape='square',thresh=0,side_length=0.005)\n",
    "lst_squares = squares\n",
    "geo_series = gpd.GeoSeries(lst_squares)\n",
    "geo_series.iloc[-1]"
   ]
  },
  {
   "cell_type": "code",
   "execution_count": 39,
   "metadata": {},
   "outputs": [
    {
     "name": "stdout",
     "output_type": "stream",
     "text": [
      "(2265, 2183, 3)\n",
      "(2265, 2183, 3)\n",
      "(2265, 2183, 3)\n",
      "(2265, 2183, 3)\n"
     ]
    }
   ],
   "source": [
    "from render_report import merging_row, open_img\n",
    "import os\n",
    "import cv2\n",
    "import matplotlib.pyplot as plt\n",
    "\n",
    "index1=[i for i in range(2,4)]\n",
    "index2 = np.arange(1, -1, -1)\n",
    "index = [index1, index2]\n",
    "\n",
    "# root=\"data/images/Lâm Đồng/Đà Lạt/12\"\n",
    "root =\"data/images/Hồ Chí Minh city/Quận 1/Nguyễn Cư Trinh\"\n",
    "# big_images=merging_row(index[0], folder_path=root)\n",
    "for i in range(0,4):\n",
    "    image_row = open_img(root=root+f\"/{i}.png\")\n",
    "    # image_row = cv2.resize(image_row,(1926, 1825))\n",
    "    print(image_row.shape)\n",
    "    # plt.imshow(image_row)\n",
    "    # plt.axis('off')\n",
    "    # plt.show()\n",
    "# for i in index[1:]:\n",
    "#     big_images=merging_row(i, folder_path=root)\n",
    "#     cv2.imshow(\"a\", big_images)\n",
    "#     cv2.waitKey(0)\n",
    "#     cv2.destroyAllWindows()\n",
    "    # img_path = os.path.join(root, str(i[0])+\".png\")\n",
    "    # image_row = open_img(root=img_path)\n",
    "    # print(image_row.shape)"
   ]
  },
  {
   "cell_type": "code",
   "execution_count": 70,
   "metadata": {},
   "outputs": [],
   "source": [
    "root = \"data/images/Hồ Chí Minh city/Quận 1/Nguyễn Cư Trinh\""
   ]
  },
  {
   "cell_type": "code",
   "execution_count": null,
   "metadata": {},
   "outputs": [],
   "source": []
  },
  {
   "cell_type": "code",
   "execution_count": 65,
   "metadata": {},
   "outputs": [],
   "source": [
    "import numpy as np\n",
    "mask = np.load(\"data/mask/Hồ Chí Minh city/Quận 1/Nguyễn Cư Trinh/mask.npy\")"
   ]
  },
  {
   "cell_type": "code",
   "execution_count": 63,
   "metadata": {},
   "outputs": [
    {
     "data": {
      "image/png": "[encoded data removed]",
      "text/plain": [
       "<Figure size 640x480 with 1 Axes>"
      ]
     },
     "metadata": {},
     "output_type": "display_data"
    }
   ],
   "source": [
    "from PIL import Image\n",
    "\n",
    "root =\"data/images/Lâm Đồng/Đà Lạt/12\"\n",
    "image0 = open_img(root=root+f\"/{0}.png\")\n",
    "image1 = open_img(root=root+f\"/{1}.png\")\n",
    "image2 = open_img(root=root+f\"/{2}.png\")\n",
    "image3 = open_img(root=root+f\"/{3}.png\")\n",
    "image4 = open_img(root=root+f\"/{4}.png\")\n",
    "image5 = open_img(root=root+f\"/{5}.png\")\n",
    "image6 = open_img(root=root+f\"/{6}.png\")\n",
    "image7 = open_img(root=root+f\"/{7}.png\")\n",
    "image8 = open_img(root=root+f\"/{8}.png\")\n",
    "image9 = open_img(root=root+f\"/{9}.png\")\n",
    "image10 = open_img(root=root+f\"/{10}.png\")\n",
    "image11 = open_img(root=root+f\"/{11}.png\")\n",
    "image12 = open_img(root=root+f\"/{12}.png\")\n",
    "image13 = open_img(root=root+f\"/{13}.png\")\n",
    "image14 = open_img(root=root+f\"/{14}.png\")\n",
    "image15 = open_img(root=root+f\"/{15}.png\")\n",
    "image16 = open_img(root=root+f\"/{16}.png\")\n",
    "image17 = open_img(root=root+f\"/{17}.png\")\n",
    "image18 = open_img(root=root+f\"/{18}.png\")\n",
    "image19 = open_img(root=root+f\"/{19}.png\")\n",
    "image20 = open_img(root=root+f\"/{20}.png\")\n",
    "image21 = open_img(root=root+f\"/{21}.png\")\n",
    "image22 = open_img(root=root+f\"/{22}.png\")\n",
    "image23 = open_img(root=root+f\"/{23}.png\")\n",
    "\n",
    "image0 = Image.fromarray(cv2.cvtColor(image0, cv2.COLOR_BGR2RGB))\n",
    "image1 = Image.fromarray(cv2.cvtColor(image1, cv2.COLOR_BGR2RGB))\n",
    "image2 = Image.fromarray(cv2.cvtColor(image2, cv2.COLOR_BGR2RGB))\n",
    "image3 = Image.fromarray(cv2.cvtColor(image3, cv2.COLOR_BGR2RGB))\n",
    "image4 = Image.fromarray(cv2.cvtColor(image4, cv2.COLOR_BGR2RGB))\n",
    "image5 = Image.fromarray(cv2.cvtColor(image5, cv2.COLOR_BGR2RGB))\n",
    "image6 = Image.fromarray(cv2.cvtColor(image6, cv2.COLOR_BGR2RGB))\n",
    "image7 = Image.fromarray(cv2.cvtColor(image7, cv2.COLOR_BGR2RGB))\n",
    "image8 = Image.fromarray(cv2.cvtColor(image8, cv2.COLOR_BGR2RGB))\n",
    "image9 = Image.fromarray(cv2.cvtColor(image9, cv2.COLOR_BGR2RGB))\n",
    "image10 = Image.fromarray(cv2.cvtColor(image10, cv2.COLOR_BGR2RGB))\n",
    "image11 = Image.fromarray(cv2.cvtColor(image11, cv2.COLOR_BGR2RGB))\n",
    "image12 = Image.fromarray(cv2.cvtColor(image12, cv2.COLOR_BGR2RGB))\n",
    "image13 = Image.fromarray(cv2.cvtColor(image13, cv2.COLOR_BGR2RGB))\n",
    "image14 = Image.fromarray(cv2.cvtColor(image14, cv2.COLOR_BGR2RGB))\n",
    "image15 = Image.fromarray(cv2.cvtColor(image15, cv2.COLOR_BGR2RGB))\n",
    "image16 = Image.fromarray(cv2.cvtColor(image16, cv2.COLOR_BGR2RGB))\n",
    "image17 = Image.fromarray(cv2.cvtColor(image17, cv2.COLOR_BGR2RGB))\n",
    "image18 = Image.fromarray(cv2.cvtColor(image18, cv2.COLOR_BGR2RGB))\n",
    "image19 = Image.fromarray(cv2.cvtColor(image19, cv2.COLOR_BGR2RGB))\n",
    "image20 = Image.fromarray(cv2.cvtColor(image20, cv2.COLOR_BGR2RGB))\n",
    "image21 = Image.fromarray(cv2.cvtColor(image21, cv2.COLOR_BGR2RGB))\n",
    "image22 = Image.fromarray(cv2.cvtColor(image22, cv2.COLOR_BGR2RGB))\n",
    "image23 = Image.fromarray(cv2.cvtColor(image23, cv2.COLOR_BGR2RGB))\n",
    "\n",
    "merged_width = image1.width*8\n",
    "merged_height = image1.width*8\n",
    "\n",
    "merged_image = Image.new('RGB', (merged_width, merged_height))\n",
    "merged_image.paste(image16, (0, 0))\n",
    "\n",
    "merged_image.paste(image8, (0, image1.height))\n",
    "merged_image.paste(image9, (image1.width, image1.height))\n",
    "merged_image.paste(image10, (image1.width*2, image1.height))\n",
    "merged_image.paste(image11, (image1.width*3, image1.height))\n",
    "merged_image.paste(image12, (image1.width*4, image1.height))\n",
    "merged_image.paste(image13, (image1.width*5, image1.height))\n",
    "merged_image.paste(image14, (image1.width*6, image1.height))\n",
    "merged_image.paste(image15, (image1.width*7, image1.height))\n",
    "\n",
    "merged_image.paste(image7, (0, image1.height*2))\n",
    "merged_image.paste(image6, (image1.width, image1.height*2))\n",
    "merged_image.paste(image5, (image1.width*2, image1.height*2))\n",
    "merged_image.paste(image4, (image1.width*3, image1.height*2))\n",
    "merged_image.paste(image3, (image1.width*4, image1.height*2))\n",
    "merged_image.paste(image2, (image1.width*5, image1.height*2))\n",
    "merged_image.paste(image1, (image1.width*6, image1.height*2))\n",
    "merged_image.paste(image0, (image1.width*7, image1.height*2))\n",
    "\n",
    "\n",
    "plt.imshow(merged_image)\n",
    "plt.axis('off')\n",
    "plt.show()\n"
   ]
  },
  {
   "cell_type": "code",
   "execution_count": 64,
   "metadata": {},
   "outputs": [],
   "source": [
    "merged_image.save(\"a.png\")"
   ]
  },
  {
   "cell_type": "code",
   "execution_count": 36,
   "metadata": {},
   "outputs": [
    {
     "data": {
      "text/plain": [
       "(2183, 4530)"
      ]
     },
     "execution_count": 36,
     "metadata": {},
     "output_type": "execute_result"
    }
   ],
   "source": [
    "maskHCM = np.load(\"data/mask/Hồ Chí Minh city/Quận 1/Nguyễn Cư Trinh/mask.npy\")\n",
    "maskHCM.shape"
   ]
  },
  {
   "cell_type": "code",
   "execution_count": 20,
   "metadata": {},
   "outputs": [
    {
     "data": {
      "text/plain": [
       "[<POLYGON ((106.693 10.756, 106.687 10.756, 106.687 10.762, 106.693 10.762, 1...>,\n",
       " <POLYGON ((106.687 10.756, 106.681 10.756, 106.681 10.762, 106.687 10.762, 1...>,\n",
       " <POLYGON ((106.681 10.762, 106.681 10.768, 106.687 10.768, 106.687 10.762, 1...>,\n",
       " <POLYGON ((106.687 10.768, 106.693 10.768, 106.693 10.762, 106.687 10.762, 1...>]"
      ]
     },
     "execution_count": 20,
     "metadata": {},
     "output_type": "execute_result"
    }
   ],
   "source": [
    "lst_squares"
   ]
  },
  {
   "cell_type": "code",
   "execution_count": 13,
   "metadata": {},
   "outputs": [
    {
     "data": {
      "text/plain": [
       "5485    POLYGON ((108.49611 11.96060, 108.49569 11.960...\n",
       "Name: geometry, dtype: geometry"
      ]
     },
     "execution_count": 13,
     "metadata": {},
     "output_type": "execute_result"
    }
   ],
   "source": [
    "data = read_geopandas_data()\n",
    "data"
   ]
  },
  {
   "cell_type": "code",
   "execution_count": 30,
   "metadata": {},
   "outputs": [
    {
     "data": {
      "text/plain": [
       "5485    POLYGON ((108.46599 11.95429, 108.50732 11.954...\n",
       "dtype: geometry"
      ]
     },
     "execution_count": 30,
     "metadata": {},
     "output_type": "execute_result"
    }
   ],
   "source": [
    "side_length=0.025\n",
    "data.envelope"
   ]
  },
  {
   "cell_type": "code",
   "execution_count": 31,
   "metadata": {},
   "outputs": [
    {
     "data": {
      "text/html": [
       "<div>\n",
       "<style scoped>\n",
       "    .dataframe tbody tr th:only-of-type {\n",
       "        vertical-align: middle;\n",
       "    }\n",
       "\n",
       "    .dataframe tbody tr th {\n",
       "        vertical-align: top;\n",
       "    }\n",
       "\n",
       "    .dataframe thead th {\n",
       "        text-align: right;\n",
       "    }\n",
       "</style>\n",
       "<table border=\"1\" class=\"dataframe\">\n",
       "  <thead>\n",
       "    <tr style=\"text-align: right;\">\n",
       "      <th></th>\n",
       "      <th>minx</th>\n",
       "      <th>miny</th>\n",
       "      <th>maxx</th>\n",
       "      <th>maxy</th>\n",
       "    </tr>\n",
       "  </thead>\n",
       "  <tbody>\n",
       "    <tr>\n",
       "      <th>5485</th>\n",
       "      <td>108.465988</td>\n",
       "      <td>11.954291</td>\n",
       "      <td>108.507317</td>\n",
       "      <td>11.992592</td>\n",
       "    </tr>\n",
       "  </tbody>\n",
       "</table>\n",
       "</div>"
      ],
      "text/plain": [
       "            minx       miny        maxx       maxy\n",
       "5485  108.465988  11.954291  108.507317  11.992592"
      ]
     },
     "execution_count": 31,
     "metadata": {},
     "output_type": "execute_result"
    }
   ],
   "source": [
    "data.bounds"
   ]
  },
  {
   "cell_type": "code",
   "execution_count": 32,
   "metadata": {},
   "outputs": [
    {
     "data": {
      "text/plain": [
       "(108.4659881591798, 11.954291343689022, 108.50731658935553, 11.992591857910156)"
      ]
     },
     "execution_count": 32,
     "metadata": {},
     "output_type": "execute_result"
    }
   ],
   "source": [
    "x1, y1, x2, y2 = data.bounds.iloc[0]\n",
    "width = x2 - x1\n",
    "height = y2 - y1\n",
    "x1, y1, x2, y2"
   ]
  },
  {
   "cell_type": "code",
   "execution_count": 33,
   "metadata": {},
   "outputs": [
    {
     "data": {
      "text/plain": [
       "(2, 2)"
      ]
     },
     "execution_count": 33,
     "metadata": {},
     "output_type": "execute_result"
    }
   ],
   "source": [
    "xcells = int(np.round(width / side_length))\n",
    "ycells = int(np.round(height / side_length))\n",
    "xcells, ycells"
   ]
  },
  {
   "cell_type": "code",
   "execution_count": 34,
   "metadata": {},
   "outputs": [
    {
     "data": {
      "text/plain": [
       "(array([108.46598816, 108.48665237, 108.50731659]),\n",
       " array([11.95429134, 11.9734416 , 11.99259186]))"
      ]
     },
     "execution_count": 34,
     "metadata": {},
     "output_type": "execute_result"
    }
   ],
   "source": [
    "yindices = np.linspace(y1, y2, ycells + 1)\n",
    "xindices = np.linspace(x1, x2, xcells + 1)\n",
    "xindices,yindices"
   ]
  },
  {
   "cell_type": "code",
   "execution_count": 35,
   "metadata": {},
   "outputs": [
    {
     "data": {
      "text/plain": [
       "([<LINESTRING (108.466 11.954, 108.466 11.993)>,\n",
       "  <LINESTRING (108.487 11.954, 108.487 11.993)>,\n",
       "  <LINESTRING (108.507 11.954, 108.507 11.993)>],\n",
       " [<LINESTRING (108.466 11.954, 108.507 11.954)>,\n",
       "  <LINESTRING (108.466 11.973, 108.507 11.973)>,\n",
       "  <LINESTRING (108.466 11.993, 108.507 11.993)>])"
      ]
     },
     "execution_count": 35,
     "metadata": {},
     "output_type": "execute_result"
    }
   ],
   "source": [
    "horizontal_splitters = [\n",
    "        LineString([(x, yindices[0]), (x, yindices[-1])]) for x in xindices\n",
    "    ]\n",
    "vertical_splitters = [\n",
    "    LineString([(xindices[0], y), (xindices[-1], y)]) for y in yindices\n",
    "]\n",
    "horizontal_splitters, vertical_splitters"
   ]
  },
  {
   "cell_type": "code",
   "execution_count": 36,
   "metadata": {},
   "outputs": [],
   "source": [
    "import matplotlib.pyplot as plt\n",
    "import matplotlib.patches as patches\n",
    "\n",
    "G = np.random.choice(data.geometry.values)"
   ]
  },
  {
   "cell_type": "code",
   "execution_count": 37,
   "metadata": {},
   "outputs": [],
   "source": [
    "Rectangle    = G.envelope\n",
    "squares      = get_squares_from_rect(Rectangle, side_length=0.025)"
   ]
  },
  {
   "cell_type": "code",
   "execution_count": 38,
   "metadata": {},
   "outputs": [
    {
     "data": {
      "text/plain": [
       "[<POLYGON ((108.507 11.954, 108.487 11.954, 108.487 11.973, 108.507 11.973, 1...>,\n",
       " <POLYGON ((108.487 11.954, 108.466 11.954, 108.466 11.973, 108.487 11.973, 1...>,\n",
       " <POLYGON ((108.466 11.973, 108.466 11.993, 108.487 11.993, 108.487 11.973, 1...>,\n",
       " <POLYGON ((108.487 11.993, 108.507 11.993, 108.507 11.973, 108.487 11.973, 1...>]"
      ]
     },
     "execution_count": 38,
     "metadata": {},
     "output_type": "execute_result"
    }
   ],
   "source": [
    "squares"
   ]
  },
  {
   "cell_type": "code",
   "execution_count": 39,
   "metadata": {},
   "outputs": [
    {
     "data": {
      "text/plain": [
       "0    POLYGON ((108.50732 11.95429, 108.48665 11.954...\n",
       "1    POLYGON ((108.48665 11.95429, 108.46599 11.954...\n",
       "2    POLYGON ((108.46599 11.97344, 108.46599 11.992...\n",
       "3    POLYGON ((108.48665 11.99259, 108.50732 11.992...\n",
       "dtype: geometry"
      ]
     },
     "execution_count": 39,
     "metadata": {},
     "output_type": "execute_result"
    }
   ],
   "source": [
    "SquareGeoDF  = gpd.GeoSeries(squares)\n",
    "SquareGeoDF"
   ]
  },
  {
   "cell_type": "markdown",
   "metadata": {},
   "source": [
    "geo_series"
   ]
  },
  {
   "cell_type": "code",
   "execution_count": 40,
   "metadata": {},
   "outputs": [
    {
     "data": {
      "text/plain": [
       "0    POLYGON ((108.507 11.954, 108.487 11.954, 108....\n",
       "1    POLYGON ((108.487 11.954, 108.466 11.954, 108....\n",
       "2    POLYGON ((108.466 11.973, 108.466 11.993, 108....\n",
       "3    POLYGON ((108.487 11.993, 108.507 11.993, 108....\n",
       "dtype: geometry"
      ]
     },
     "execution_count": 40,
     "metadata": {},
     "output_type": "execute_result"
    }
   ],
   "source": [
    "SquareGeoDF = SquareGeoDF.set_crs('EPSG:32649')\n",
    "SquareGeoDF"
   ]
  },
  {
   "cell_type": "code",
   "execution_count": 41,
   "metadata": {},
   "outputs": [
    {
     "data": {
      "text/plain": [
       "0    POLYGON ((108.507 11.954, 108.487 11.954, 108....\n",
       "1    POLYGON ((108.487 11.954, 108.466 11.954, 108....\n",
       "2    POLYGON ((108.466 11.973, 108.466 11.993, 108....\n",
       "3    POLYGON ((108.487 11.993, 108.507 11.993, 108....\n",
       "dtype: geometry"
      ]
     },
     "execution_count": 41,
     "metadata": {},
     "output_type": "execute_result"
    }
   ],
   "source": [
    "Geoms        = SquareGeoDF.geometry\n",
    "Geoms"
   ]
  },
  {
   "cell_type": "code",
   "execution_count": 42,
   "metadata": {},
   "outputs": [
    {
     "data": {
      "text/plain": [
       "[]"
      ]
     },
     "execution_count": 42,
     "metadata": {},
     "output_type": "execute_result"
    }
   ],
   "source": [
    "geoms = [g for g in Geoms if ((g.intersection(G)).area / g.area) >= 0.9]\n",
    "geoms"
   ]
  },
  {
   "cell_type": "code",
   "execution_count": 43,
   "metadata": {},
   "outputs": [],
   "source": [
    "G = np.random.choice(data.geometry.values)\n",
    "squares   = split_polygon(G,shape='square',thresh=0,side_length=0.005)"
   ]
  },
  {
   "cell_type": "code",
   "execution_count": 44,
   "metadata": {},
   "outputs": [
    {
     "data": {
      "text/plain": [
       "[<POLYGON ((108.507 11.954, 108.502 11.954, 108.502 11.959, 108.507 11.959, 1...>,\n",
       " <POLYGON ((108.502 11.954, 108.497 11.954, 108.497 11.959, 108.502 11.959, 1...>,\n",
       " <POLYGON ((108.497 11.954, 108.492 11.954, 108.492 11.959, 108.497 11.959, 1...>,\n",
       " <POLYGON ((108.492 11.954, 108.487 11.954, 108.487 11.959, 108.492 11.959, 1...>,\n",
       " <POLYGON ((108.487 11.954, 108.481 11.954, 108.481 11.959, 108.487 11.959, 1...>,\n",
       " <POLYGON ((108.481 11.954, 108.476 11.954, 108.476 11.959, 108.481 11.959, 1...>,\n",
       " <POLYGON ((108.476 11.954, 108.471 11.954, 108.471 11.959, 108.476 11.959, 1...>,\n",
       " <POLYGON ((108.471 11.954, 108.466 11.954, 108.466 11.959, 108.471 11.959, 1...>,\n",
       " <POLYGON ((108.466 11.959, 108.466 11.964, 108.471 11.964, 108.471 11.959, 1...>,\n",
       " <POLYGON ((108.471 11.964, 108.476 11.964, 108.476 11.959, 108.471 11.959, 1...>,\n",
       " <POLYGON ((108.476 11.964, 108.481 11.964, 108.481 11.959, 108.476 11.959, 1...>,\n",
       " <POLYGON ((108.481 11.964, 108.487 11.964, 108.487 11.959, 108.481 11.959, 1...>,\n",
       " <POLYGON ((108.487 11.964, 108.492 11.964, 108.492 11.959, 108.487 11.959, 1...>,\n",
       " <POLYGON ((108.492 11.964, 108.497 11.964, 108.497 11.959, 108.492 11.959, 1...>,\n",
       " <POLYGON ((108.497 11.964, 108.502 11.964, 108.502 11.959, 108.497 11.959, 1...>,\n",
       " <POLYGON ((108.502 11.964, 108.507 11.964, 108.507 11.959, 108.502 11.959, 1...>,\n",
       " <POLYGON ((108.466 11.964, 108.466 11.969, 108.471 11.969, 108.471 11.964, 1...>,\n",
       " <POLYGON ((108.471 11.969, 108.476 11.969, 108.476 11.964, 108.471 11.964, 1...>,\n",
       " <POLYGON ((108.476 11.969, 108.481 11.969, 108.481 11.964, 108.476 11.964, 1...>,\n",
       " <POLYGON ((108.481 11.969, 108.487 11.969, 108.487 11.964, 108.481 11.964, 1...>,\n",
       " <POLYGON ((108.487 11.969, 108.492 11.969, 108.492 11.964, 108.487 11.964, 1...>,\n",
       " <POLYGON ((108.492 11.969, 108.497 11.969, 108.497 11.964, 108.492 11.964, 1...>,\n",
       " <POLYGON ((108.497 11.969, 108.502 11.969, 108.502 11.964, 108.497 11.964, 1...>,\n",
       " <POLYGON ((108.502 11.969, 108.507 11.969, 108.507 11.964, 108.502 11.964, 1...>,\n",
       " <POLYGON ((108.466 11.969, 108.466 11.973, 108.471 11.973, 108.471 11.969, 1...>,\n",
       " <POLYGON ((108.471 11.973, 108.476 11.973, 108.476 11.969, 108.471 11.969, 1...>,\n",
       " <POLYGON ((108.476 11.973, 108.481 11.973, 108.481 11.969, 108.476 11.969, 1...>,\n",
       " <POLYGON ((108.481 11.973, 108.487 11.973, 108.487 11.969, 108.481 11.969, 1...>,\n",
       " <POLYGON ((108.487 11.973, 108.492 11.973, 108.492 11.969, 108.487 11.969, 1...>,\n",
       " <POLYGON ((108.492 11.973, 108.497 11.973, 108.497 11.969, 108.492 11.969, 1...>,\n",
       " <POLYGON ((108.497 11.973, 108.502 11.973, 108.502 11.969, 108.497 11.969, 1...>,\n",
       " <POLYGON ((108.502 11.973, 108.507 11.973, 108.507 11.969, 108.502 11.969, 1...>,\n",
       " <POLYGON ((108.466 11.973, 108.466 11.978, 108.471 11.978, 108.471 11.973, 1...>,\n",
       " <POLYGON ((108.471 11.978, 108.476 11.978, 108.476 11.973, 108.471 11.973, 1...>,\n",
       " <POLYGON ((108.476 11.978, 108.481 11.978, 108.481 11.973, 108.476 11.973, 1...>,\n",
       " <POLYGON ((108.481 11.978, 108.487 11.978, 108.487 11.973, 108.481 11.973, 1...>,\n",
       " <POLYGON ((108.487 11.978, 108.492 11.978, 108.492 11.973, 108.487 11.973, 1...>,\n",
       " <POLYGON ((108.492 11.978, 108.497 11.978, 108.497 11.973, 108.492 11.973, 1...>,\n",
       " <POLYGON ((108.497 11.978, 108.502 11.978, 108.502 11.973, 108.497 11.973, 1...>,\n",
       " <POLYGON ((108.502 11.978, 108.507 11.978, 108.507 11.973, 108.502 11.973, 1...>,\n",
       " <POLYGON ((108.466 11.978, 108.466 11.983, 108.471 11.983, 108.471 11.978, 1...>,\n",
       " <POLYGON ((108.471 11.983, 108.476 11.983, 108.476 11.978, 108.471 11.978, 1...>,\n",
       " <POLYGON ((108.476 11.983, 108.481 11.983, 108.481 11.978, 108.476 11.978, 1...>,\n",
       " <POLYGON ((108.481 11.983, 108.487 11.983, 108.487 11.978, 108.481 11.978, 1...>,\n",
       " <POLYGON ((108.487 11.983, 108.492 11.983, 108.492 11.978, 108.487 11.978, 1...>,\n",
       " <POLYGON ((108.492 11.983, 108.497 11.983, 108.497 11.978, 108.492 11.978, 1...>,\n",
       " <POLYGON ((108.497 11.983, 108.502 11.983, 108.502 11.978, 108.497 11.978, 1...>,\n",
       " <POLYGON ((108.502 11.983, 108.507 11.983, 108.507 11.978, 108.502 11.978, 1...>,\n",
       " <POLYGON ((108.466 11.983, 108.466 11.988, 108.471 11.988, 108.471 11.983, 1...>,\n",
       " <POLYGON ((108.471 11.988, 108.476 11.988, 108.476 11.983, 108.471 11.983, 1...>,\n",
       " <POLYGON ((108.476 11.988, 108.481 11.988, 108.481 11.983, 108.476 11.983, 1...>,\n",
       " <POLYGON ((108.481 11.988, 108.487 11.988, 108.487 11.983, 108.481 11.983, 1...>,\n",
       " <POLYGON ((108.487 11.988, 108.492 11.988, 108.492 11.983, 108.487 11.983, 1...>,\n",
       " <POLYGON ((108.492 11.988, 108.497 11.988, 108.497 11.983, 108.492 11.983, 1...>,\n",
       " <POLYGON ((108.497 11.988, 108.502 11.988, 108.502 11.983, 108.497 11.983, 1...>,\n",
       " <POLYGON ((108.502 11.988, 108.507 11.988, 108.507 11.983, 108.502 11.983, 1...>,\n",
       " <POLYGON ((108.466 11.988, 108.466 11.993, 108.471 11.993, 108.471 11.988, 1...>,\n",
       " <POLYGON ((108.471 11.993, 108.476 11.993, 108.476 11.988, 108.471 11.988, 1...>,\n",
       " <POLYGON ((108.476 11.993, 108.481 11.993, 108.481 11.988, 108.476 11.988, 1...>,\n",
       " <POLYGON ((108.481 11.993, 108.487 11.993, 108.487 11.988, 108.481 11.988, 1...>,\n",
       " <POLYGON ((108.487 11.993, 108.492 11.993, 108.492 11.988, 108.487 11.988, 1...>,\n",
       " <POLYGON ((108.492 11.993, 108.497 11.993, 108.497 11.988, 108.492 11.988, 1...>,\n",
       " <POLYGON ((108.497 11.993, 108.502 11.993, 108.502 11.988, 108.497 11.988, 1...>,\n",
       " <POLYGON ((108.502 11.993, 108.507 11.993, 108.507 11.988, 108.502 11.988, 1...>]"
      ]
     },
     "execution_count": 44,
     "metadata": {},
     "output_type": "execute_result"
    }
   ],
   "source": [
    "squares"
   ]
  },
  {
   "cell_type": "code",
   "execution_count": 45,
   "metadata": {},
   "outputs": [
    {
     "data": {
      "text/plain": [
       "0    POLYGON ((108.46599 11.98780, 108.46599 11.992...\n",
       "1    POLYGON ((108.50732 11.95429, 108.50215 11.954...\n",
       "dtype: geometry"
      ]
     },
     "execution_count": 45,
     "metadata": {},
     "output_type": "execute_result"
    }
   ],
   "source": [
    "geo_series = gpd.GeoSeries([squares[56], squares[0]])\n",
    "geo_series"
   ]
  },
  {
   "cell_type": "code",
   "execution_count": 46,
   "metadata": {},
   "outputs": [
    {
     "data": {
      "image/png": "[encoded data removed]",
      "text/plain": [
       "<Figure size 640x480 with 1 Axes>"
      ]
     },
     "metadata": {},
     "output_type": "display_data"
    }
   ],
   "source": [
    "fig, ax = plt.subplots()"
   ]
  },
  {
   "cell_type": "code",
   "execution_count": 47,
   "metadata": {},
   "outputs": [
    {
     "data": {
      "text/plain": [
       "<Figure size 640x480 with 0 Axes>"
      ]
     },
     "metadata": {},
     "output_type": "display_data"
    }
   ],
   "source": [
    "geo_series.plot(color = 'red', ax=ax)\n",
    "data.exterior.plot(color='blue', ax= ax)\n",
    "plt.show()"
   ]
  },
  {
   "cell_type": "code",
   "execution_count": 48,
   "metadata": {},
   "outputs": [
    {
     "name": "stdout",
     "output_type": "stream",
     "text": [
      "Saved as 0.png\n",
      "Saved as 1.png\n"
     ]
    }
   ],
   "source": [
    "from image_downloading import run\n",
    "\n",
    "\n",
    "for idx, bound in enumerate(geo_series):\n",
    "    #run func for downloading images and saving them\n",
    "    run(idx=idx,bound=bound.bounds)\n",
    "    pass"
   ]
  },
  {
   "cell_type": "code",
   "execution_count": 5,
   "metadata": {},
   "outputs": [],
   "source": [
    "import cv2\n",
    "import os"
   ]
  },
  {
   "cell_type": "code",
   "execution_count": 19,
   "metadata": {},
   "outputs": [],
   "source": [
    "fi = cv2.imread(\"annotations\\\\0.png\")"
   ]
  },
  {
   "cell_type": "code",
   "execution_count": 25,
   "metadata": {},
   "outputs": [],
   "source": [
    "path = r\"data\\\\annotations\\\\Lâm Đồng\\\\Đà Lạt\\\\12\\\\1.png\""
   ]
  },
  {
   "cell_type": "code",
   "execution_count": 26,
   "metadata": {},
   "outputs": [
    {
     "data": {
      "text/plain": [
       "'data\\\\\\\\annotations\\\\\\\\Lâm Đồng\\\\\\\\Đà Lạt\\\\\\\\12\\\\\\\\1.png'"
      ]
     },
     "execution_count": 26,
     "metadata": {},
     "output_type": "execute_result"
    }
   ],
   "source": [
    "# file_path =os.path.join(path,\"1.png\")\n",
    "file_path=path\n",
    "file_path"
   ]
  },
  {
   "cell_type": "code",
   "execution_count": 9,
   "metadata": {},
   "outputs": [],
   "source": [
    "fi = open(file_path,\"r\")\n",
    "fi"
   ]
  },
  {
   "cell_type": "code",
   "execution_count": 49,
   "metadata": {},
   "outputs": [],
   "source": [
    "path = r\"data\\\\annotations\\\\Lâm Đồng\\\\Đà Lạt\\\\12\\\\1.png\"\n",
    "unicode_path = path.encode('utf-8').decode('unicode_escape')\n",
    "fi = cv2.imread(unicode_path)"
   ]
  },
  {
   "cell_type": "code",
   "execution_count": 50,
   "metadata": {},
   "outputs": [
    {
     "data": {
      "text/plain": [
       "'data\\\\annotations\\\\LÃ¢m Ä\\x90á»\\x93ng\\\\Ä\\x90Ã\\xa0 Láº¡t\\\\12\\\\1.png'"
      ]
     },
     "execution_count": 50,
     "metadata": {},
     "output_type": "execute_result"
    }
   ],
   "source": [
    "unicode_path"
   ]
  },
  {
   "cell_type": "code",
   "execution_count": 44,
   "metadata": {},
   "outputs": [
    {
     "ename": "error",
     "evalue": "OpenCV(4.9.0) D:\\a\\opencv-python\\opencv-python\\opencv\\modules\\highgui\\src\\window.cpp:971: error: (-215:Assertion failed) size.width>0 && size.height>0 in function 'cv::imshow'\n",
     "output_type": "error",
     "traceback": [
      "\u001b[1;31m---------------------------------------------------------------------------\u001b[0m",
      "\u001b[1;31merror\u001b[0m                                     Traceback (most recent call last)",
      "Cell \u001b[1;32mIn[44], line 1\u001b[0m\n\u001b[1;32m----> 1\u001b[0m \u001b[43mcv2\u001b[49m\u001b[38;5;241;43m.\u001b[39;49m\u001b[43mimshow\u001b[49m\u001b[43m(\u001b[49m\u001b[38;5;124;43m\"\u001b[39;49m\u001b[38;5;124;43ma\u001b[39;49m\u001b[38;5;124;43m\"\u001b[39;49m\u001b[43m,\u001b[49m\u001b[43mfi\u001b[49m\u001b[43m)\u001b[49m\n\u001b[0;32m      2\u001b[0m cv2\u001b[38;5;241m.\u001b[39mwaitKey(\u001b[38;5;241m0\u001b[39m)\n\u001b[0;32m      3\u001b[0m cv2\u001b[38;5;241m.\u001b[39mdestroyAllWindows()\n",
      "\u001b[1;31merror\u001b[0m: OpenCV(4.9.0) D:\\a\\opencv-python\\opencv-python\\opencv\\modules\\highgui\\src\\window.cpp:971: error: (-215:Assertion failed) size.width>0 && size.height>0 in function 'cv::imshow'\n"
     ]
    }
   ],
   "source": [
    "cv2.imshow(\"a\",fi)\n",
    "cv2.waitKey(0)\n",
    "cv2.destroyAllWindows()"
   ]
  },
  {
   "cell_type": "code",
   "execution_count": 63,
   "metadata": {},
   "outputs": [],
   "source": [
    "import imageio.v3 as iio\n",
    "import cv2\n",
    "import os\n",
    "\n",
    "# Ensure the path is correctly handled\n",
    "path = \"data\\\\annotations\\\\Lâm Đồng\\\\Đà Lạt\\\\12\\\\1.png\"\n",
    "\n",
    "# Convert to absolute path\n",
    "# absolute_path = os.path.abspath(path)\n",
    "\n",
    "# Check if the file exists\n",
    "if not os.path.exists(path):\n",
    "    print(f\"File does not exist: {path}\")\n",
    "else:\n",
    "    try:\n",
    "        # Read the image using imageio\n",
    "        image = iio.imread(path)\n",
    "\n",
    "        # Convert the image to a format compatible with OpenCV\n",
    "        image = cv2.cvtColor(image, cv2.COLOR_RGB2BGR)\n",
    "\n",
    "        # Display the image\n",
    "        cv2.imshow(\"Image\", image)\n",
    "        # Wait for a key press to close the window\n",
    "        cv2.waitKey(0)\n",
    "        cv2.destroyAllWindows()\n",
    "    except Exception as e:\n",
    "        print(f\"Failed to read the image with imageio: {e}\")\n"
   ]
  },
  {
   "cell_type": "code",
   "execution_count": 54,
   "metadata": {},
   "outputs": [
    {
     "name": "stdout",
     "output_type": "stream",
     "text": [
      "Collecting imageio\n",
      "  Downloading imageio-2.34.1-py3-none-any.whl (313 kB)\n",
      "     -------------------------------------- 313.5/313.5 kB 1.6 MB/s eta 0:00:00\n",
      "Requirement already satisfied: numpy in .\\.venv\\lib\\site-packages (from imageio) (1.26.4)\n",
      "Requirement already satisfied: pillow>=8.3.2 in .\\.venv\\lib\\site-packages (from imageio) (10.3.0)\n",
      "Installing collected packages: imageio\n",
      "Successfully installed imageio-2.34.1\n"
     ]
    },
    {
     "name": "stderr",
     "output_type": "stream",
     "text": [
      "\n",
      "[notice] A new release of pip available: 22.3 -> 24.0\n",
      "[notice] To update, run: python.exe -m pip install --upgrade pip\n"
     ]
    }
   ],
   "source": [
    "!pip install imageio"
   ]
  },
  {
   "cell_type": "code",
   "execution_count": 1,
   "metadata": {},
   "outputs": [],
   "source": [
    "import numpy as np\n",
    "mask = np.load(\"data/mask/\")"
   ]
  },
  {
   "cell_type": "code",
   "execution_count": 27,
   "metadata": {},
   "outputs": [],
   "source": [
    "from Satellite_Image_Collector import get_custom_image\n",
    "\n",
    "\n",
    "geo_series = get_custom_image(data={'province':'Lâm Đồng','district':'Đà Lạt','ward':'12'})"
   ]
  },
  {
   "cell_type": "code",
   "execution_count": 28,
   "metadata": {},
   "outputs": [
    {
     "data": {
      "text/plain": [
       "(108.4659881591798, 11.987804293632514, 108.47115421295177, 11.992591857910156)"
      ]
     },
     "execution_count": 28,
     "metadata": {},
     "output_type": "execute_result"
    }
   ],
   "source": [
    "geo_series[56].bounds"
   ]
  },
  {
   "cell_type": "code",
   "execution_count": 30,
   "metadata": {},
   "outputs": [
    {
     "data": {
      "text/plain": [
       "(108.4659881591798, 11.987804293632514, 108.47115421295177, 11.992591857910156)"
      ]
     },
     "execution_count": 30,
     "metadata": {},
     "output_type": "execute_result"
    }
   ],
   "source": [
    "W= 8\n",
    "geo_series[geo_series.index[-1]- W+1].bounds"
   ]
  },
  {
   "cell_type": "code",
   "execution_count": 25,
   "metadata": {},
   "outputs": [
    {
     "name": "stdout",
     "output_type": "stream",
     "text": [
      "11\n"
     ]
    }
   ],
   "source": [
    "import math\n",
    "a= 66\n",
    "W = 1\n",
    "for i in range(2, int(a/2)+1):\n",
    "    H = a/i\n",
    "    if H.is_integer() and abs(H-i) <= abs(a/W-W):\n",
    "        W = i\n",
    "print(W)"
   ]
  },
  {
   "cell_type": "code",
   "execution_count": 1,
   "metadata": {},
   "outputs": [
    {
     "data": {
      "text/plain": [
       "(7673, 19669)"
      ]
     },
     "execution_count": 1,
     "metadata": {},
     "output_type": "execute_result"
    }
   ],
   "source": [
    "import numpy as np\n",
    "import matplotlib.pyplot as plt\n",
    "\n",
    "mask = np.load(\"data/mask/Lâm Đồng/Đà Lạt/11/mask.npy\")\n",
    "# mask = np.load('data/mask/Hồ Chí Minh city/Quận 1/Nguyễn Cư Trinh/mask.npy')\n",
    "\n",
    "mask.shape"
   ]
  },
  {
   "cell_type": "code",
   "execution_count": 4,
   "metadata": {},
   "outputs": [],
   "source": [
    "new_mask = mask[:, 9000:]"
   ]
  },
  {
   "cell_type": "code",
   "execution_count": 5,
   "metadata": {},
   "outputs": [
    {
     "data": {
      "image/png": "[encoded data removed]",
      "text/plain": [
       "<Figure size 640x480 with 1 Axes>"
      ]
     },
     "metadata": {},
     "output_type": "display_data"
    }
   ],
   "source": [
    "plt.pcolormesh(new_mask, cmap=\"binary\")  # Reshape for plotting\n",
    "\n",
    "# Optional: Add labels and title\n",
    "plt.xlabel(\"X-axis\")\n",
    "plt.ylabel(\"Y-axis\")\n",
    "plt.title(\"2D Array Visualization\")\n",
    "plt.show()"
   ]
  },
  {
   "cell_type": "code",
   "execution_count": null,
   "metadata": {},
   "outputs": [],
   "source": []
  }
 ],
 "metadata": {
  "kernelspec": {
   "display_name": ".venv",
   "language": "python",
   "name": "python3"
  },
  "language_info": {
   "codemirror_mode": {
    "name": "ipython",
    "version": 3
   },
   "file_extension": ".py",
   "mimetype": "text/x-python",
   "name": "python",
   "nbconvert_exporter": "python",
   "pygments_lexer": "ipython3",
   "version": "3.11.0"
  }
 },
 "nbformat": 4,
 "nbformat_minor": 2
}
